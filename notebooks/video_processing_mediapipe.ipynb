{
 "cells": [
  {
   "cell_type": "markdown",
   "metadata": {},
   "source": [
    "# Procesamiento de Videos con MediaPipe\n",
    "\n",
    "Este cuaderno procesa videos de movimientos corporales y extrae datos de seguimiento de poses usando MediaPipe.\n",
    "\n",
    "## Estructura de datos:\n",
    "\n",
    "- **Entrada**: `data/raw/{nombre_accion}/` - Videos de diferentes acciones\n",
    "\n",
    "- **Salida**: `data/processed/{nombre_accion}/` - Archivos JSON y CSV con datos de poses"
   ]
  },
  {
   "cell_type": "code",
   "execution_count": 2,
   "metadata": {},
   "outputs": [
    {
     "name": "stdout",
     "output_type": "stream",
     "text": [
      "Defaulting to user installation because normal site-packages is not writeable\n",
      "Collecting mediapipe\n",
      "  Downloading mediapipe-0.10.21-cp312-cp312-win_amd64.whl.metadata (10 kB)\n",
      "Requirement already satisfied: opencv-python in c:\\users\\13mig\\appdata\\roaming\\python\\python312\\site-packages (4.11.0.86)\n",
      "Requirement already satisfied: pandas in c:\\users\\13mig\\appdata\\roaming\\python\\python312\\site-packages (2.2.3)\n",
      "Requirement already satisfied: numpy in c:\\users\\13mig\\appdata\\roaming\\python\\python312\\site-packages (2.0.2)\n",
      "Requirement already satisfied: matplotlib in c:\\users\\13mig\\appdata\\roaming\\python\\python312\\site-packages (3.9.2)\n",
      "Requirement already satisfied: absl-py in c:\\users\\13mig\\appdata\\roaming\\python\\python312\\site-packages (from mediapipe) (2.1.0)\n",
      "Requirement already satisfied: attrs>=19.1.0 in c:\\users\\13mig\\appdata\\roaming\\python\\python312\\site-packages (from mediapipe) (24.2.0)\n",
      "Requirement already satisfied: flatbuffers>=2.0 in c:\\users\\13mig\\appdata\\roaming\\python\\python312\\site-packages (from mediapipe) (24.3.25)\n",
      "Collecting jax (from mediapipe)\n",
      "  Downloading jax-0.6.1-py3-none-any.whl.metadata (13 kB)\n",
      "Collecting jaxlib (from mediapipe)\n",
      "  Downloading jaxlib-0.6.1-cp312-cp312-win_amd64.whl.metadata (1.2 kB)\n",
      "Collecting numpy\n",
      "  Downloading numpy-1.26.4-cp312-cp312-win_amd64.whl.metadata (61 kB)\n",
      "Collecting opencv-contrib-python (from mediapipe)\n",
      "  Downloading opencv_contrib_python-4.11.0.86-cp37-abi3-win_amd64.whl.metadata (20 kB)\n",
      "Collecting protobuf<5,>=4.25.3 (from mediapipe)\n",
      "  Downloading protobuf-4.25.8-cp310-abi3-win_amd64.whl.metadata (541 bytes)\n",
      "Collecting sounddevice>=0.4.4 (from mediapipe)\n",
      "  Downloading sounddevice-0.5.2-py3-none-win_amd64.whl.metadata (1.6 kB)\n",
      "Collecting sentencepiece (from mediapipe)\n",
      "  Downloading sentencepiece-0.2.0-cp312-cp312-win_amd64.whl.metadata (8.3 kB)\n",
      "Requirement already satisfied: python-dateutil>=2.8.2 in c:\\users\\13mig\\appdata\\roaming\\python\\python312\\site-packages (from pandas) (2.9.0.post0)\n",
      "Requirement already satisfied: pytz>=2020.1 in c:\\users\\13mig\\appdata\\roaming\\python\\python312\\site-packages (from pandas) (2024.2)\n",
      "Requirement already satisfied: tzdata>=2022.7 in c:\\users\\13mig\\appdata\\roaming\\python\\python312\\site-packages (from pandas) (2024.2)\n",
      "Requirement already satisfied: contourpy>=1.0.1 in c:\\users\\13mig\\appdata\\roaming\\python\\python312\\site-packages (from matplotlib) (1.3.0)\n",
      "Requirement already satisfied: cycler>=0.10 in c:\\users\\13mig\\appdata\\roaming\\python\\python312\\site-packages (from matplotlib) (0.12.1)\n",
      "Requirement already satisfied: fonttools>=4.22.0 in c:\\users\\13mig\\appdata\\roaming\\python\\python312\\site-packages (from matplotlib) (4.54.1)\n",
      "Requirement already satisfied: kiwisolver>=1.3.1 in c:\\users\\13mig\\appdata\\roaming\\python\\python312\\site-packages (from matplotlib) (1.4.7)\n",
      "Requirement already satisfied: packaging>=20.0 in c:\\users\\13mig\\appdata\\roaming\\python\\python312\\site-packages (from matplotlib) (24.1)\n",
      "Requirement already satisfied: pillow>=8 in c:\\users\\13mig\\appdata\\roaming\\python\\python312\\site-packages (from matplotlib) (10.4.0)\n",
      "Requirement already satisfied: pyparsing>=2.3.1 in c:\\users\\13mig\\appdata\\roaming\\python\\python312\\site-packages (from matplotlib) (3.2.0)\n",
      "Requirement already satisfied: six>=1.5 in c:\\users\\13mig\\appdata\\roaming\\python\\python312\\site-packages (from python-dateutil>=2.8.2->pandas) (1.16.0)\n",
      "Requirement already satisfied: CFFI>=1.0 in c:\\users\\13mig\\appdata\\roaming\\python\\python312\\site-packages (from sounddevice>=0.4.4->mediapipe) (1.17.1)\n",
      "Collecting ml_dtypes>=0.5.0 (from jax->mediapipe)\n",
      "  Downloading ml_dtypes-0.5.1-cp312-cp312-win_amd64.whl.metadata (22 kB)\n",
      "Requirement already satisfied: opt_einsum in c:\\users\\13mig\\appdata\\roaming\\python\\python312\\site-packages (from jax->mediapipe) (3.4.0)\n",
      "Requirement already satisfied: scipy>=1.11.1 in c:\\users\\13mig\\appdata\\roaming\\python\\python312\\site-packages (from jax->mediapipe) (1.14.1)\n",
      "Requirement already satisfied: pycparser in c:\\users\\13mig\\appdata\\roaming\\python\\python312\\site-packages (from CFFI>=1.0->sounddevice>=0.4.4->mediapipe) (2.22)\n",
      "Downloading mediapipe-0.10.21-cp312-cp312-win_amd64.whl (51.0 MB)\n",
      "   ---------------------------------------- 0.0/51.0 MB ? eta -:--:--\n",
      "   - -------------------------------------- 2.4/51.0 MB 13.4 MB/s eta 0:00:04\n",
      "   --- ------------------------------------ 4.7/51.0 MB 13.0 MB/s eta 0:00:04\n",
      "   ---- ----------------------------------- 6.0/51.0 MB 10.2 MB/s eta 0:00:05\n",
      "   ----- ---------------------------------- 7.1/51.0 MB 8.7 MB/s eta 0:00:06\n",
      "   ------ --------------------------------- 8.7/51.0 MB 8.5 MB/s eta 0:00:05\n",
      "   ------- -------------------------------- 10.0/51.0 MB 8.1 MB/s eta 0:00:06\n",
      "   --------- ------------------------------ 12.1/51.0 MB 8.3 MB/s eta 0:00:05\n",
      "   ---------- ----------------------------- 13.6/51.0 MB 8.3 MB/s eta 0:00:05\n",
      "   ------------ --------------------------- 15.7/51.0 MB 8.5 MB/s eta 0:00:05\n",
      "   ------------- -------------------------- 17.8/51.0 MB 8.6 MB/s eta 0:00:04\n",
      "   -------------- ------------------------- 18.9/51.0 MB 8.6 MB/s eta 0:00:04\n",
      "   -------------- ------------------------- 18.9/51.0 MB 8.6 MB/s eta 0:00:04\n",
      "   ---------------- ----------------------- 20.7/51.0 MB 7.6 MB/s eta 0:00:05\n",
      "   ---------------- ----------------------- 21.2/51.0 MB 7.2 MB/s eta 0:00:05\n",
      "   ----------------- ---------------------- 22.0/51.0 MB 7.2 MB/s eta 0:00:05\n",
      "   ----------------- ---------------------- 22.8/51.0 MB 6.9 MB/s eta 0:00:05\n",
      "   ------------------ --------------------- 23.9/51.0 MB 6.7 MB/s eta 0:00:05\n",
      "   ------------------- -------------------- 24.6/51.0 MB 6.4 MB/s eta 0:00:05\n",
      "   ------------------- -------------------- 25.4/51.0 MB 6.4 MB/s eta 0:00:04\n",
      "   -------------------- ------------------- 26.2/51.0 MB 6.2 MB/s eta 0:00:04\n",
      "   --------------------- ------------------ 27.0/51.0 MB 6.0 MB/s eta 0:00:04\n",
      "   --------------------- ------------------ 27.5/51.0 MB 5.9 MB/s eta 0:00:04\n",
      "   ---------------------- ----------------- 28.3/51.0 MB 5.8 MB/s eta 0:00:04\n",
      "   ---------------------- ----------------- 28.8/51.0 MB 5.8 MB/s eta 0:00:04\n",
      "   ----------------------- ---------------- 29.4/51.0 MB 5.6 MB/s eta 0:00:04\n",
      "   ----------------------- ---------------- 29.9/51.0 MB 5.5 MB/s eta 0:00:04\n",
      "   ----------------------- ---------------- 30.4/51.0 MB 5.4 MB/s eta 0:00:04\n",
      "   ------------------------ --------------- 30.9/51.0 MB 5.2 MB/s eta 0:00:04\n",
      "   ------------------------ --------------- 31.2/51.0 MB 5.2 MB/s eta 0:00:04\n",
      "   ------------------------ --------------- 31.2/51.0 MB 5.2 MB/s eta 0:00:04\n",
      "   ------------------------ --------------- 31.2/51.0 MB 5.2 MB/s eta 0:00:04\n",
      "   ------------------------ --------------- 31.5/51.0 MB 4.7 MB/s eta 0:00:05\n",
      "   ------------------------ --------------- 31.5/51.0 MB 4.7 MB/s eta 0:00:05\n",
      "   ------------------------ --------------- 31.5/51.0 MB 4.7 MB/s eta 0:00:05\n",
      "   ------------------------ --------------- 31.5/51.0 MB 4.7 MB/s eta 0:00:05\n",
      "   ------------------------ --------------- 31.7/51.0 MB 4.2 MB/s eta 0:00:05\n",
      "   ------------------------ --------------- 31.7/51.0 MB 4.2 MB/s eta 0:00:05\n",
      "   ------------------------ --------------- 31.7/51.0 MB 4.2 MB/s eta 0:00:05\n",
      "   ------------------------- -------------- 32.0/51.0 MB 3.9 MB/s eta 0:00:05\n",
      "   ------------------------- -------------- 32.0/51.0 MB 3.9 MB/s eta 0:00:05\n",
      "   ------------------------- -------------- 32.0/51.0 MB 3.9 MB/s eta 0:00:05\n",
      "   ------------------------- -------------- 32.2/51.0 MB 3.6 MB/s eta 0:00:06\n",
      "   ------------------------- -------------- 32.2/51.0 MB 3.6 MB/s eta 0:00:06\n",
      "   ------------------------- -------------- 32.2/51.0 MB 3.6 MB/s eta 0:00:06\n",
      "   ------------------------- -------------- 32.5/51.0 MB 3.4 MB/s eta 0:00:06\n",
      "   ------------------------- -------------- 32.5/51.0 MB 3.4 MB/s eta 0:00:06\n",
      "   ------------------------- -------------- 32.8/51.0 MB 3.3 MB/s eta 0:00:06\n",
      "   -------------------------- ------------- 33.3/51.0 MB 3.2 MB/s eta 0:00:06\n",
      "   -------------------------- ------------- 33.6/51.0 MB 3.2 MB/s eta 0:00:06\n",
      "   -------------------------- ------------- 34.1/51.0 MB 3.2 MB/s eta 0:00:06\n",
      "   -------------------------- ------------- 34.1/51.0 MB 3.2 MB/s eta 0:00:06\n",
      "   -------------------------- ------------- 34.1/51.0 MB 3.2 MB/s eta 0:00:06\n",
      "   -------------------------- ------------- 34.1/51.0 MB 3.2 MB/s eta 0:00:06\n",
      "   -------------------------- ------------- 34.1/51.0 MB 3.2 MB/s eta 0:00:06\n",
      "   -------------------------- ------------- 34.1/51.0 MB 3.2 MB/s eta 0:00:06\n",
      "   -------------------------- ------------- 34.1/51.0 MB 3.2 MB/s eta 0:00:06\n",
      "   -------------------------- ------------- 34.3/51.0 MB 2.8 MB/s eta 0:00:06\n",
      "   -------------------------- ------------- 34.3/51.0 MB 2.8 MB/s eta 0:00:06\n",
      "   -------------------------- ------------- 34.3/51.0 MB 2.8 MB/s eta 0:00:06\n",
      "   --------------------------- ------------ 34.6/51.0 MB 2.7 MB/s eta 0:00:07\n",
      "   --------------------------- ------------ 35.4/51.0 MB 2.7 MB/s eta 0:00:06\n",
      "   ---------------------------- ----------- 35.9/51.0 MB 2.7 MB/s eta 0:00:06\n",
      "   ---------------------------- ----------- 36.4/51.0 MB 2.7 MB/s eta 0:00:06\n",
      "   ----------------------------- ---------- 37.2/51.0 MB 2.7 MB/s eta 0:00:06\n",
      "   ----------------------------- ---------- 38.0/51.0 MB 2.7 MB/s eta 0:00:05\n",
      "   ------------------------------ --------- 38.8/51.0 MB 2.7 MB/s eta 0:00:05\n",
      "   ------------------------------ --------- 39.3/51.0 MB 2.7 MB/s eta 0:00:05\n",
      "   ------------------------------- -------- 40.4/51.0 MB 2.8 MB/s eta 0:00:04\n",
      "   -------------------------------- ------- 41.2/51.0 MB 2.8 MB/s eta 0:00:04\n",
      "   -------------------------------- ------- 41.9/51.0 MB 2.8 MB/s eta 0:00:04\n",
      "   --------------------------------- ------ 42.7/51.0 MB 2.8 MB/s eta 0:00:03\n",
      "   ---------------------------------- ----- 43.8/51.0 MB 2.8 MB/s eta 0:00:03\n",
      "   ----------------------------------- ---- 44.8/51.0 MB 2.9 MB/s eta 0:00:03\n",
      "   ----------------------------------- ---- 45.6/51.0 MB 2.9 MB/s eta 0:00:02\n",
      "   ------------------------------------ --- 46.9/51.0 MB 2.9 MB/s eta 0:00:02\n",
      "   ------------------------------------- -- 48.0/51.0 MB 3.0 MB/s eta 0:00:02\n",
      "   -------------------------------------- - 49.0/51.0 MB 3.0 MB/s eta 0:00:01\n",
      "   ---------------------------------------  50.3/51.0 MB 3.0 MB/s eta 0:00:01\n",
      "   ---------------------------------------  50.9/51.0 MB 3.0 MB/s eta 0:00:01\n",
      "   ---------------------------------------- 51.0/51.0 MB 3.0 MB/s eta 0:00:00\n",
      "Downloading numpy-1.26.4-cp312-cp312-win_amd64.whl (15.5 MB)\n",
      "   ---------------------------------------- 0.0/15.5 MB ? eta -:--:--\n",
      "   --- ------------------------------------ 1.3/15.5 MB 7.4 MB/s eta 0:00:02\n",
      "   ------- -------------------------------- 2.9/15.5 MB 7.3 MB/s eta 0:00:02\n",
      "   ---------- ----------------------------- 3.9/15.5 MB 7.6 MB/s eta 0:00:02\n",
      "   ---------- ----------------------------- 4.2/15.5 MB 5.2 MB/s eta 0:00:03\n",
      "   ----------- ---------------------------- 4.5/15.5 MB 4.8 MB/s eta 0:00:03\n",
      "   ----------- ---------------------------- 4.5/15.5 MB 4.8 MB/s eta 0:00:03\n",
      "   ------------ --------------------------- 4.7/15.5 MB 3.4 MB/s eta 0:00:04\n",
      "   ------------ --------------------------- 4.7/15.5 MB 3.4 MB/s eta 0:00:04\n",
      "   ------------ --------------------------- 4.7/15.5 MB 3.4 MB/s eta 0:00:04\n",
      "   ------------- -------------------------- 5.2/15.5 MB 2.4 MB/s eta 0:00:05\n",
      "   -------------- ------------------------- 5.5/15.5 MB 2.4 MB/s eta 0:00:05\n",
      "   --------------- ------------------------ 6.0/15.5 MB 2.4 MB/s eta 0:00:05\n",
      "   ---------------- ----------------------- 6.6/15.5 MB 2.4 MB/s eta 0:00:04\n",
      "   ------------------ --------------------- 7.3/15.5 MB 2.5 MB/s eta 0:00:04\n",
      "   -------------------- ------------------- 8.1/15.5 MB 2.5 MB/s eta 0:00:03\n",
      "   ---------------------- ----------------- 8.7/15.5 MB 2.5 MB/s eta 0:00:03\n",
      "   ----------------------- ---------------- 9.2/15.5 MB 2.5 MB/s eta 0:00:03\n",
      "   ------------------------- -------------- 9.7/15.5 MB 2.6 MB/s eta 0:00:03\n",
      "   ------------------------- -------------- 9.7/15.5 MB 2.6 MB/s eta 0:00:03\n",
      "   ------------------------- -------------- 9.7/15.5 MB 2.6 MB/s eta 0:00:03\n",
      "   ------------------------- -------------- 10.0/15.5 MB 2.2 MB/s eta 0:00:03\n",
      "   -------------------------- ------------- 10.2/15.5 MB 2.2 MB/s eta 0:00:03\n",
      "   -------------------------- ------------- 10.2/15.5 MB 2.2 MB/s eta 0:00:03\n",
      "   --------------------------- ------------ 10.5/15.5 MB 2.1 MB/s eta 0:00:03\n",
      "   --------------------------- ------------ 10.5/15.5 MB 2.1 MB/s eta 0:00:03\n",
      "   --------------------------- ------------ 10.5/15.5 MB 2.1 MB/s eta 0:00:03\n",
      "   --------------------------- ------------ 10.7/15.5 MB 1.9 MB/s eta 0:00:03\n",
      "   --------------------------- ------------ 10.7/15.5 MB 1.9 MB/s eta 0:00:03\n",
      "   ------------------------------ --------- 11.8/15.5 MB 1.9 MB/s eta 0:00:02\n",
      "   --------------------------------- ------ 12.8/15.5 MB 2.0 MB/s eta 0:00:02\n",
      "   ----------------------------------- ---- 13.6/15.5 MB 2.1 MB/s eta 0:00:01\n",
      "   ------------------------------------ --- 14.2/15.5 MB 2.1 MB/s eta 0:00:01\n",
      "   ------------------------------------- -- 14.7/15.5 MB 2.1 MB/s eta 0:00:01\n",
      "   ---------------------------------------  15.2/15.5 MB 2.1 MB/s eta 0:00:01\n",
      "   ---------------------------------------  15.5/15.5 MB 2.1 MB/s eta 0:00:01\n",
      "   ---------------------------------------- 15.5/15.5 MB 2.1 MB/s eta 0:00:00\n",
      "Downloading protobuf-4.25.8-cp310-abi3-win_amd64.whl (413 kB)\n",
      "Downloading sounddevice-0.5.2-py3-none-win_amd64.whl (363 kB)\n",
      "Downloading jax-0.6.1-py3-none-any.whl (2.4 MB)\n",
      "   ---------------------------------------- 0.0/2.4 MB ? eta -:--:--\n",
      "   ---- ----------------------------------- 0.3/2.4 MB ? eta -:--:--\n",
      "   -------- ------------------------------- 0.5/2.4 MB 1.9 MB/s eta 0:00:02\n",
      "   ------------- -------------------------- 0.8/2.4 MB 1.3 MB/s eta 0:00:02\n",
      "   --------------------- ------------------ 1.3/2.4 MB 1.5 MB/s eta 0:00:01\n",
      "   ------------------------------ --------- 1.8/2.4 MB 1.8 MB/s eta 0:00:01\n",
      "   ------------------------------ --------- 1.8/2.4 MB 1.8 MB/s eta 0:00:01\n",
      "   ------------------------------ --------- 1.8/2.4 MB 1.8 MB/s eta 0:00:01\n",
      "   ------------------------------ --------- 1.8/2.4 MB 1.8 MB/s eta 0:00:01\n",
      "   ----------------------------------- ---- 2.1/2.4 MB 1.1 MB/s eta 0:00:01\n",
      "   ---------------------------------------- 2.4/2.4 MB 1.1 MB/s eta 0:00:00\n",
      "Downloading jaxlib-0.6.1-cp312-cp312-win_amd64.whl (56.9 MB)\n",
      "   ---------------------------------------- 0.0/56.9 MB ? eta -:--:--\n",
      "    --------------------------------------- 1.0/56.9 MB 5.0 MB/s eta 0:00:12\n",
      "   - -------------------------------------- 1.8/56.9 MB 4.6 MB/s eta 0:00:13\n",
      "   -- ------------------------------------- 3.1/56.9 MB 5.3 MB/s eta 0:00:11\n",
      "   --- ------------------------------------ 4.7/56.9 MB 5.7 MB/s eta 0:00:10\n",
      "   ---- ----------------------------------- 6.0/56.9 MB 5.9 MB/s eta 0:00:09\n",
      "   ----- ---------------------------------- 7.6/56.9 MB 6.1 MB/s eta 0:00:09\n",
      "   ------ --------------------------------- 9.2/56.9 MB 6.3 MB/s eta 0:00:08\n",
      "   ------- -------------------------------- 10.7/56.9 MB 6.5 MB/s eta 0:00:08\n",
      "   -------- ------------------------------- 12.3/56.9 MB 6.5 MB/s eta 0:00:07\n",
      "   --------- ------------------------------ 13.4/56.9 MB 6.5 MB/s eta 0:00:07\n",
      "   ---------- ----------------------------- 14.7/56.9 MB 6.5 MB/s eta 0:00:07\n",
      "   ----------- ---------------------------- 16.3/56.9 MB 6.5 MB/s eta 0:00:07\n",
      "   ------------ --------------------------- 17.8/56.9 MB 6.5 MB/s eta 0:00:07\n",
      "   ------------- -------------------------- 19.1/56.9 MB 6.6 MB/s eta 0:00:06\n",
      "   -------------- ------------------------- 20.7/56.9 MB 6.5 MB/s eta 0:00:06\n",
      "   --------------- ------------------------ 22.0/56.9 MB 6.7 MB/s eta 0:00:06\n",
      "   ---------------- ----------------------- 23.3/56.9 MB 6.5 MB/s eta 0:00:06\n",
      "   ----------------- ---------------------- 24.6/56.9 MB 6.5 MB/s eta 0:00:05\n",
      "   ------------------ --------------------- 26.2/56.9 MB 6.6 MB/s eta 0:00:05\n",
      "   ------------------- -------------------- 28.0/56.9 MB 6.6 MB/s eta 0:00:05\n",
      "   -------------------- ------------------- 29.4/56.9 MB 6.7 MB/s eta 0:00:05\n",
      "   --------------------- ------------------ 31.2/56.9 MB 6.7 MB/s eta 0:00:04\n",
      "   ----------------------- ---------------- 32.8/56.9 MB 6.7 MB/s eta 0:00:04\n",
      "   ----------------------- ---------------- 33.6/56.9 MB 6.6 MB/s eta 0:00:04\n",
      "   ------------------------ --------------- 34.6/56.9 MB 6.5 MB/s eta 0:00:04\n",
      "   ------------------------- -------------- 35.9/56.9 MB 6.5 MB/s eta 0:00:04\n",
      "   ------------------------- -------------- 36.4/56.9 MB 6.5 MB/s eta 0:00:04\n",
      "   ------------------------- -------------- 36.4/56.9 MB 6.5 MB/s eta 0:00:04\n",
      "   ------------------------- -------------- 36.4/56.9 MB 6.5 MB/s eta 0:00:04\n",
      "   -------------------------- ------------- 38.0/56.9 MB 6.0 MB/s eta 0:00:04\n",
      "   --------------------------- ------------ 39.6/56.9 MB 6.0 MB/s eta 0:00:03\n",
      "   ---------------------------- ----------- 40.4/56.9 MB 5.9 MB/s eta 0:00:03\n",
      "   ----------------------------- ---------- 42.2/56.9 MB 6.0 MB/s eta 0:00:03\n",
      "   ------------------------------ --------- 43.8/56.9 MB 6.1 MB/s eta 0:00:03\n",
      "   ------------------------------- -------- 44.3/56.9 MB 6.0 MB/s eta 0:00:03\n",
      "   ------------------------------- -------- 45.1/56.9 MB 5.9 MB/s eta 0:00:02\n",
      "   -------------------------------- ------- 46.4/56.9 MB 5.9 MB/s eta 0:00:02\n",
      "   --------------------------------- ------ 47.4/56.9 MB 5.9 MB/s eta 0:00:02\n",
      "   ---------------------------------- ----- 48.8/56.9 MB 5.9 MB/s eta 0:00:02\n",
      "   ----------------------------------- ---- 49.8/56.9 MB 5.9 MB/s eta 0:00:02\n",
      "   ----------------------------------- ---- 50.9/56.9 MB 5.8 MB/s eta 0:00:02\n",
      "   ------------------------------------ --- 51.9/56.9 MB 5.8 MB/s eta 0:00:01\n",
      "   ------------------------------------- -- 53.0/56.9 MB 5.8 MB/s eta 0:00:01\n",
      "   -------------------------------------- - 54.3/56.9 MB 5.8 MB/s eta 0:00:01\n",
      "   -------------------------------------- - 55.1/56.9 MB 5.8 MB/s eta 0:00:01\n",
      "   ---------------------------------------  56.1/56.9 MB 5.7 MB/s eta 0:00:01\n",
      "   ---------------------------------------  56.6/56.9 MB 5.7 MB/s eta 0:00:01\n",
      "   ---------------------------------------- 56.9/56.9 MB 5.6 MB/s eta 0:00:00\n",
      "Downloading opencv_contrib_python-4.11.0.86-cp37-abi3-win_amd64.whl (46.2 MB)\n",
      "   ---------------------------------------- 0.0/46.2 MB ? eta -:--:--\n",
      "    --------------------------------------- 0.8/46.2 MB 4.2 MB/s eta 0:00:11\n",
      "   - -------------------------------------- 2.1/46.2 MB 5.1 MB/s eta 0:00:09\n",
      "   --- ------------------------------------ 3.7/46.2 MB 6.1 MB/s eta 0:00:08\n",
      "   ---- ----------------------------------- 5.2/46.2 MB 6.2 MB/s eta 0:00:07\n",
      "   ------ --------------------------------- 7.1/46.2 MB 6.8 MB/s eta 0:00:06\n",
      "   ------- -------------------------------- 9.2/46.2 MB 7.3 MB/s eta 0:00:06\n",
      "   --------- ------------------------------ 11.3/46.2 MB 7.8 MB/s eta 0:00:05\n",
      "   ----------- ---------------------------- 13.1/46.2 MB 7.8 MB/s eta 0:00:05\n",
      "   ------------ --------------------------- 14.7/46.2 MB 7.8 MB/s eta 0:00:05\n",
      "   ------------- -------------------------- 16.0/46.2 MB 7.6 MB/s eta 0:00:04\n",
      "   -------------- ------------------------- 16.8/46.2 MB 7.3 MB/s eta 0:00:05\n",
      "   --------------- ------------------------ 17.8/46.2 MB 7.0 MB/s eta 0:00:05\n",
      "   ---------------- ----------------------- 19.4/46.2 MB 7.0 MB/s eta 0:00:04\n",
      "   ------------------ --------------------- 21.0/46.2 MB 7.0 MB/s eta 0:00:04\n",
      "   ------------------ --------------------- 21.2/46.2 MB 6.7 MB/s eta 0:00:04\n",
      "   ------------------- -------------------- 22.8/46.2 MB 6.7 MB/s eta 0:00:04\n",
      "   ------------------- -------------------- 23.1/46.2 MB 6.6 MB/s eta 0:00:04\n",
      "   -------------------- ------------------- 23.9/46.2 MB 6.3 MB/s eta 0:00:04\n",
      "   -------------------- ------------------- 23.9/46.2 MB 6.3 MB/s eta 0:00:04\n",
      "   --------------------- ------------------ 24.4/46.2 MB 5.8 MB/s eta 0:00:04\n",
      "   --------------------- ------------------ 24.9/46.2 MB 5.6 MB/s eta 0:00:04\n",
      "   --------------------- ------------------ 24.9/46.2 MB 5.6 MB/s eta 0:00:04\n",
      "   ---------------------- ----------------- 25.7/46.2 MB 5.2 MB/s eta 0:00:04\n",
      "   ---------------------- ----------------- 26.0/46.2 MB 5.1 MB/s eta 0:00:04\n",
      "   ----------------------- ---------------- 27.0/46.2 MB 5.0 MB/s eta 0:00:04\n",
      "   ------------------------ --------------- 28.0/46.2 MB 5.0 MB/s eta 0:00:04\n",
      "   ------------------------- -------------- 29.1/46.2 MB 5.0 MB/s eta 0:00:04\n",
      "   ------------------------- -------------- 29.9/46.2 MB 5.0 MB/s eta 0:00:04\n",
      "   -------------------------- ------------- 30.4/46.2 MB 4.9 MB/s eta 0:00:04\n",
      "   --------------------------- ------------ 31.7/46.2 MB 4.9 MB/s eta 0:00:03\n",
      "   ---------------------------- ----------- 32.5/46.2 MB 4.9 MB/s eta 0:00:03\n",
      "   ---------------------------- ----------- 33.3/46.2 MB 4.9 MB/s eta 0:00:03\n",
      "   ----------------------------- ---------- 33.6/46.2 MB 4.8 MB/s eta 0:00:03\n",
      "   ------------------------------ --------- 34.9/46.2 MB 4.8 MB/s eta 0:00:03\n",
      "   ------------------------------- -------- 36.4/46.2 MB 4.9 MB/s eta 0:00:03\n",
      "   -------------------------------- ------- 38.0/46.2 MB 4.9 MB/s eta 0:00:02\n",
      "   ---------------------------------- ----- 39.6/46.2 MB 5.0 MB/s eta 0:00:02\n",
      "   ----------------------------------- ---- 40.9/46.2 MB 5.0 MB/s eta 0:00:02\n",
      "   ------------------------------------ --- 42.2/46.2 MB 5.1 MB/s eta 0:00:01\n",
      "   ------------------------------------- -- 43.3/46.2 MB 5.0 MB/s eta 0:00:01\n",
      "   -------------------------------------- - 44.8/46.2 MB 5.1 MB/s eta 0:00:01\n",
      "   ---------------------------------------  46.1/46.2 MB 5.2 MB/s eta 0:00:01\n",
      "   ---------------------------------------- 46.2/46.2 MB 5.1 MB/s eta 0:00:00\n",
      "Downloading sentencepiece-0.2.0-cp312-cp312-win_amd64.whl (991 kB)\n",
      "   ---------------------------------------- 0.0/992.0 kB ? eta -:--:--\n",
      "   ---------------------------------------- 992.0/992.0 kB 5.2 MB/s eta 0:00:00\n",
      "Downloading ml_dtypes-0.5.1-cp312-cp312-win_amd64.whl (210 kB)\n",
      "Installing collected packages: sentencepiece, protobuf, numpy, sounddevice, opencv-contrib-python, ml_dtypes, jaxlib, jax, mediapipe\n",
      "  Attempting uninstall: protobuf\n",
      "    Found existing installation: protobuf 5.28.3\n",
      "    Uninstalling protobuf-5.28.3:\n",
      "      Successfully uninstalled protobuf-5.28.3\n",
      "  Attempting uninstall: numpy\n",
      "    Found existing installation: numpy 2.0.2\n",
      "    Uninstalling numpy-2.0.2:\n",
      "      Successfully uninstalled numpy-2.0.2\n",
      "  Attempting uninstall: ml_dtypes\n",
      "    Found existing installation: ml-dtypes 0.4.1\n",
      "    Uninstalling ml-dtypes-0.4.1:\n",
      "      Successfully uninstalled ml-dtypes-0.4.1\n",
      "Successfully installed jax-0.6.1 jaxlib-0.6.1 mediapipe-0.10.21 ml_dtypes-0.5.1 numpy-1.26.4 opencv-contrib-python-4.11.0.86 protobuf-4.25.8 sentencepiece-0.2.0 sounddevice-0.5.2\n"
     ]
    },
    {
     "name": "stderr",
     "output_type": "stream",
     "text": [
      "ERROR: pip's dependency resolver does not currently take into account all the packages that are installed. This behaviour is the source of the following dependency conflicts.\n",
      "grpcio-status 1.67.1 requires protobuf<6.0dev,>=5.26.1, but you have protobuf 4.25.8 which is incompatible.\n",
      "tensorflow-intel 2.18.0 requires ml-dtypes<0.5.0,>=0.4.0, but you have ml-dtypes 0.5.1 which is incompatible.\n",
      "\n",
      "[notice] A new release of pip is available: 25.0.1 -> 25.1.1\n",
      "[notice] To update, run: python.exe -m pip install --upgrade pip\n"
     ]
    },
    {
     "name": "stdout",
     "output_type": "stream",
     "text": [
      "Defaulting to user installation because normal site-packages is not writeable\n"
     ]
    },
    {
     "name": "stderr",
     "output_type": "stream",
     "text": [
      "ERROR: Could not find a version that satisfies the requirement google-colab-drive (from versions: none)\n",
      "\n",
      "[notice] A new release of pip is available: 25.0.1 -> 25.1.1\n",
      "[notice] To update, run: python.exe -m pip install --upgrade pip\n",
      "ERROR: No matching distribution found for google-colab-drive\n"
     ]
    }
   ],
   "source": [
    "# Instalación de dependencias necesarias\n",
    "!pip install mediapipe opencv-python pandas numpy matplotlib\n",
    "!pip install google-colab-drive"
   ]
  },
  {
   "cell_type": "code",
   "execution_count": 2,
   "metadata": {},
   "outputs": [],
   "source": [
    "import mediapipe as mp\n",
    "import cv2\n",
    "import numpy as np\n",
    "import pandas as pd\n",
    "import json\n",
    "import os\n",
    "from pathlib import Path\n",
    "import matplotlib.pyplot as plt\n",
    "from tqdm import tqdm\n",
    "import time\n",
    "\n",
    "# Configuración de MediaPipe\n",
    "mp_pose = mp.solutions.pose\n",
    "mp_draw = mp.solutions.drawing_utils\n",
    "mp_drawing_styles = mp.solutions.drawing_styles"
   ]
  },
  {
   "cell_type": "code",
   "execution_count": 3,
   "metadata": {},
   "outputs": [
    {
     "name": "stdout",
     "output_type": "stream",
     "text": [
      "Ruta del proyecto: C:/Users/13mig/Documents/Semestre 7/IA/motion-classifier-model\\\n",
      "Datos raw: C:/Users/13mig/Documents/Semestre 7/IA/motion-classifier-model/data/raw\\\n",
      "Datos procesados: C:/Users/13mig/Documents/Semestre 7/IA/motion-classifier-model/data/processed\\\n"
     ]
    }
   ],
   "source": [
    "# Definir rutas del proyecto (ajusta según tu ubicación en Drive)\n",
    "PROJECT_PATH = 'C:/Users/13mig/Documents/Semestre 7/IA/motion-classifier-model'  # Ajusta esta ruta\n",
    "RAW_DATA_PATH = f'{PROJECT_PATH}/data/raw'\n",
    "PROCESSED_DATA_PATH = f'{PROJECT_PATH}/data/processed'\n",
    "\n",
    "# Crear directorio processed si no existe\n",
    "os.makedirs(PROCESSED_DATA_PATH, exist_ok=True)\n",
    "\n",
    "print(f\"Ruta del proyecto: {PROJECT_PATH}\\\\\")\n",
    "print(f\"Datos raw: {RAW_DATA_PATH}\\\\\")\n",
    "print(f\"Datos procesados: {PROCESSED_DATA_PATH}\\\\\")"
   ]
  },
  {
   "cell_type": "code",
   "execution_count": 4,
   "metadata": {},
   "outputs": [],
   "source": [
    "class PoseExtractor:\n",
    "    def __init__(self, min_detection_confidence=0.5, min_tracking_confidence=0.5):\n",
    "        self.pose = mp_pose.Pose(\n",
    "            min_detection_confidence=min_detection_confidence,\n",
    "            min_tracking_confidence=min_tracking_confidence\n",
    "        )\n",
    "        self.pose_landmarks = []\n",
    "\n",
    "    def extract_pose_landmarks(self, image):\n",
    "        \"\"\"Extrae landmarks de pose de una imagen\"\"\",\n",
    "        image_rgb = cv2.cvtColor(image, cv2.COLOR_BGR2RGB)\n",
    "        results = self.pose.process(image_rgb)\n",
    "\n",
    "        if results.pose_landmarks:\n",
    "            landmarks = []\n",
    "            for landmark in results.pose_landmarks.landmark:\n",
    "                landmarks.extend([landmark.x, landmark.y, landmark.z, landmark.visibility])\n",
    "            return landmarks, results\n",
    "        else:\n",
    "            # Si no se detectan poses, retornar None o landmarks vacíos\n",
    "            return [0.0] * (33 * 4), results  # 33 landmarks × 4 valores (x,y,z,visibility)\n",
    "\n",
    "    def process_video(self, video_path, output_prefix):\n",
    "        \"\"\"Procesa un video completo y extrae poses de todos los frames\"\"\"\n",
    "        cap = cv2.VideoCapture(str(video_path))\n",
    "\n",
    "        if not cap.isOpened():\n",
    "            print(f\"Error: No se pudo abrir el video {video_path}\")\n",
    "            return None, None\n",
    "\n",
    "        fps = cap.get(cv2.CAP_PROP_FPS)\n",
    "        total_frames = int(cap.get(cv2.CAP_PROP_FRAME_COUNT))\n",
    "\n",
    "        print(f\"Procesando: {video_path.name}\")\n",
    "        print(f\"FPS: {fps}, Total frames: {total_frames}\")\n",
    "\n",
    "        frames_data = []\n",
    "        frame_number = 0\n",
    "\n",
    "        # Crear barra de progreso\n",
    "        with tqdm(total=total_frames, desc=\"Procesando frames\") as pbar:\n",
    "            while True:\n",
    "                ret, frame = cap.read()\n",
    "                if not ret:\n",
    "                    break\n",
    "\n",
    "                # Extraer landmarks\n",
    "                landmarks, results = self.extract_pose_landmarks(frame)\n",
    "\n",
    "                # Calcular timestamp\n",
    "                timestamp = frame_number / fps\n",
    "\n",
    "                frame_data = {\n",
    "                 'frame': frame_number,\n",
    "                    'timestamp': timestamp,\n",
    "                    'landmarks': landmarks,\n",
    "                    'pose_detected': results.pose_landmarks is not None\n",
    "                }\n",
    "\n",
    "                frames_data.append(frame_data)\n",
    "                frame_number += 1\n",
    "                pbar.update(1)\n",
    "\n",
    "        cap.release()\n",
    "\n",
    "        # Convertir a DataFrame para CSV\n",
    "        df_data = []\n",
    "        for frame_data in frames_data:\n",
    "            row = {\n",
    "                'frame': frame_data['frame'],\n",
    "                'timestamp': frame_data['timestamp'],\n",
    "                'pose_detected': frame_data['pose_detected']\n",
    "            }\n",
    "\n",
    "            # Agregar landmarks como columnas separadas\n",
    "            landmarks = frame_data['landmarks']\n",
    "            for i in range(0, len(landmarks), 4):\n",
    "                landmark_idx = i // 4\n",
    "                row[f'landmark_{landmark_idx}_x'] = landmarks[i]\n",
    "                row[f'landmark_{landmark_idx}_y'] = landmarks[i + 1]\n",
    "                row[f'landmark_{landmark_idx}_z'] = landmarks[i + 2]\n",
    "                row[f'landmark_{landmark_idx}_visibility'] = landmarks[i + 3]\n",
    "\n",
    "            df_data.append(row)\n",
    "\n",
    "        df = pd.DataFrame(df_data)\n",
    "\n",
    "        return frames_data, df\n",
    "\n",
    "    def save_data(self, frames_data, df, output_dir, video_name):\n",
    "        \"\"\"Guarda los datos en formato JSON y CSV\"\"\"\n",
    "        os.makedirs(output_dir, exist_ok=True)\n",
    "\n",
    "        # Guardar JSON\\n\",\n",
    "        json_path = os.path.join(output_dir, f\"{video_name}_poses.json\")\n",
    "        with open(json_path, 'w') as f:\n",
    "            json.dump(frames_data, f, indent=2)\n",
    "\n",
    "        # Guardar CSV\n",
    "        csv_path = os.path.join(output_dir, f\"{video_name}_poses.csv\")\n",
    "        df.to_csv(csv_path, index=False)\n",
    "\n",
    "        print(f\"Datos guardados en:\")\n",
    "        print(f\"  JSON: {json_path}\")\n",
    "        print(f\"  CSV: {csv_path}\")\n",
    "\n",
    "        return json_path, csv_path"
   ]
  },
  {
   "cell_type": "code",
   "execution_count": 5,
   "metadata": {},
   "outputs": [],
   "source": [
    "def process_all_videos(raw_data_path, processed_data_path):\n",
    "    \"\"\"Procesa todos los videos en las carpetas de acciones\"\"\"\n",
    "\n",
    "    # Extensiones de video soportadas\n",
    "    video_extensions = ['.mp4', '.avi', '.mov', '.mkv', '.wmv', '.flv']\n",
    "\n",
    "    # Inicializar extractor de poses\n",
    "    pose_extractor = PoseExtractor()\n",
    "\n",
    "    # Obtener todas las carpetas de acciones\\n\",\n",
    "    action_folders = [d for d in os.listdir(raw_data_path)\n",
    "                     if os.path.isdir(os.path.join(raw_data_path, d))]\n",
    "\n",
    "    print(f\"Acciones encontradas: {action_folders}\")\n",
    "\n",
    "    processing_summary = {}\n",
    "\n",
    "    for action in action_folders:\n",
    "        print(f\"\\n{'='*50}\")\n",
    "        print(f\"Procesando acción: {action}\")\n",
    "        print(f\"{'='*50}\")\n",
    "\n",
    "        action_raw_path = os.path.join(raw_data_path, action)\n",
    "        action_processed_path = os.path.join(processed_data_path, action)\n",
    "\n",
    "        # Crear directorio de salida para esta acción\n",
    "        os.makedirs(action_processed_path, exist_ok=True)\n",
    "\n",
    "        # Encontrar todos los videos en esta carpeta de acción\n",
    "        video_files = []\n",
    "        for file in os.listdir(action_raw_path):\n",
    "            if any(file.lower().endswith(ext) for ext in video_extensions):\n",
    "                video_files.append(file)\n",
    "\n",
    "        print(f\"Videos encontrados: {len(video_files)}\")\n",
    "\n",
    "        action_results = []\n",
    "\n",
    "        for video_file in video_files:\n",
    "            video_path = Path(os.path.join(action_raw_path, video_file))\n",
    "            video_name = video_path.stem  # Nombre sin extensión\n",
    "\n",
    "            print(f\"\\nProcesando: {video_file}\")\n",
    "\n",
    "            try:\n",
    "                # Procesar video\n",
    "                frames_data, df = pose_extractor.process_video(video_path, video_name)\n",
    "\n",
    "                if frames_data is not None:\n",
    "                    # Guardar datos\n",
    "                    json_path, csv_path = pose_extractor.save_data(\n",
    "                        frames_data, df, action_processed_path, video_name\n",
    "                    )\n",
    "\n",
    "                    # Estadísticas\n",
    "                    total_frames = len(frames_data)\n",
    "                    frames_with_pose = sum(1 for frame in frames_data if frame['pose_detected'])\n",
    "                    detection_rate = (frames_with_pose / total_frames) * 100 if total_frames > 0 else 0\n",
    "\n",
    "                    result = {\n",
    "                        'video_file': video_file,\n",
    "                        'total_frames': total_frames,\n",
    "                        'frames_with_pose': frames_with_pose,\n",
    "                        'detection_rate': detection_rate,\n",
    "                        'json_path': json_path,\n",
    "                        'csv_path': csv_path,\n",
    "                        'status': 'success'\n",
    "                    }\n",
    "\n",
    "                    print(f\"✓ Procesado exitosamente\")\n",
    "                    print(f\"  Frames totales: {total_frames}\")\n",
    "                    print(f\"  Frames con pose: {frames_with_pose}\")\n",
    "                    print(f\"  Tasa de detección: {detection_rate:.1f}%\")\n",
    "\n",
    "                else:\n",
    "                    result = {\n",
    "                        'video_file': video_file,\n",
    "                        'status': 'error',\n",
    "                        'error': 'No se pudo procesar el video'\n",
    "                    }\n",
    "                    print(f\"✗ Error al procesar el video\")\n",
    "\n",
    "            except Exception as e:\n",
    "                result = {\n",
    "                    'video_file': video_file,\n",
    "                    'status': 'error',\n",
    "                    'error': str(e)\n",
    "                }\n",
    "                print(f\"✗ Error: {e}\")\n",
    "\n",
    "            action_results.append(result)\n",
    "\n",
    "        processing_summary[action] = action_results\n",
    "\n",
    "    return processing_summary"
   ]
  },
  {
   "cell_type": "code",
   "execution_count": 6,
   "metadata": {},
   "outputs": [
    {
     "name": "stdout",
     "output_type": "stream",
     "text": [
      "Iniciando procesamiento de videos...\n",
      "Buscando videos en: C:/Users/13mig/Documents/Semestre 7/IA/motion-classifier-model/data/raw\n",
      "Guardando resultados en: C:/Users/13mig/Documents/Semestre 7/IA/motion-classifier-model/data/processed\n",
      "Acciones encontradas: ['devolverse', 'ir al frente', 'parar', 'sentar', 'voltear']\n",
      "\n",
      "==================================================\n",
      "Procesando acción: devolverse\n",
      "==================================================\n",
      "Videos encontrados: 7\n",
      "\n",
      "Procesando: devolverse 1.mp4\n",
      "Procesando: devolverse 1.mp4\n",
      "FPS: 30.0, Total frames: 153\n"
     ]
    },
    {
     "name": "stderr",
     "output_type": "stream",
     "text": [
      "Procesando frames: 100%|██████████| 153/153 [00:06<00:00, 23.79it/s]\n"
     ]
    },
    {
     "name": "stdout",
     "output_type": "stream",
     "text": [
      "Datos guardados en:\n",
      "  JSON: C:/Users/13mig/Documents/Semestre 7/IA/motion-classifier-model/data/processed\\devolverse\\devolverse 1_poses.json\n",
      "  CSV: C:/Users/13mig/Documents/Semestre 7/IA/motion-classifier-model/data/processed\\devolverse\\devolverse 1_poses.csv\n",
      "✓ Procesado exitosamente\n",
      "  Frames totales: 153\n",
      "  Frames con pose: 153\n",
      "  Tasa de detección: 100.0%\n",
      "\n",
      "Procesando: devolverse 2.mp4\n",
      "Procesando: devolverse 2.mp4\n",
      "FPS: 30.0, Total frames: 106\n"
     ]
    },
    {
     "name": "stderr",
     "output_type": "stream",
     "text": [
      "Procesando frames: 100%|██████████| 106/106 [00:04<00:00, 25.75it/s]\n"
     ]
    },
    {
     "name": "stdout",
     "output_type": "stream",
     "text": [
      "Datos guardados en:\n",
      "  JSON: C:/Users/13mig/Documents/Semestre 7/IA/motion-classifier-model/data/processed\\devolverse\\devolverse 2_poses.json\n",
      "  CSV: C:/Users/13mig/Documents/Semestre 7/IA/motion-classifier-model/data/processed\\devolverse\\devolverse 2_poses.csv\n",
      "✓ Procesado exitosamente\n",
      "  Frames totales: 106\n",
      "  Frames con pose: 88\n",
      "  Tasa de detección: 83.0%\n",
      "\n",
      "Procesando: devolverse 3.mp4\n",
      "Procesando: devolverse 3.mp4\n",
      "FPS: 30.0, Total frames: 88\n"
     ]
    },
    {
     "name": "stderr",
     "output_type": "stream",
     "text": [
      "Procesando frames: 100%|██████████| 88/88 [00:03<00:00, 25.13it/s]\n"
     ]
    },
    {
     "name": "stdout",
     "output_type": "stream",
     "text": [
      "Datos guardados en:\n",
      "  JSON: C:/Users/13mig/Documents/Semestre 7/IA/motion-classifier-model/data/processed\\devolverse\\devolverse 3_poses.json\n",
      "  CSV: C:/Users/13mig/Documents/Semestre 7/IA/motion-classifier-model/data/processed\\devolverse\\devolverse 3_poses.csv\n",
      "✓ Procesado exitosamente\n",
      "  Frames totales: 88\n",
      "  Frames con pose: 71\n",
      "  Tasa de detección: 80.7%\n",
      "\n",
      "Procesando: devolverse 4.mp4\n",
      "Procesando: devolverse 4.mp4\n",
      "FPS: 30.0, Total frames: 82\n"
     ]
    },
    {
     "name": "stderr",
     "output_type": "stream",
     "text": [
      "Procesando frames: 100%|██████████| 82/82 [00:03<00:00, 26.36it/s]\n"
     ]
    },
    {
     "name": "stdout",
     "output_type": "stream",
     "text": [
      "Datos guardados en:\n",
      "  JSON: C:/Users/13mig/Documents/Semestre 7/IA/motion-classifier-model/data/processed\\devolverse\\devolverse 4_poses.json\n",
      "  CSV: C:/Users/13mig/Documents/Semestre 7/IA/motion-classifier-model/data/processed\\devolverse\\devolverse 4_poses.csv\n",
      "✓ Procesado exitosamente\n",
      "  Frames totales: 82\n",
      "  Frames con pose: 81\n",
      "  Tasa de detección: 98.8%\n",
      "\n",
      "Procesando: devolverse 5.mp4\n",
      "Procesando: devolverse 5.mp4\n",
      "FPS: 30.0, Total frames: 63\n"
     ]
    },
    {
     "name": "stderr",
     "output_type": "stream",
     "text": [
      "Procesando frames: 100%|██████████| 63/63 [00:02<00:00, 25.44it/s]\n"
     ]
    },
    {
     "name": "stdout",
     "output_type": "stream",
     "text": [
      "Datos guardados en:\n",
      "  JSON: C:/Users/13mig/Documents/Semestre 7/IA/motion-classifier-model/data/processed\\devolverse\\devolverse 5_poses.json\n",
      "  CSV: C:/Users/13mig/Documents/Semestre 7/IA/motion-classifier-model/data/processed\\devolverse\\devolverse 5_poses.csv\n",
      "✓ Procesado exitosamente\n",
      "  Frames totales: 63\n",
      "  Frames con pose: 60\n",
      "  Tasa de detección: 95.2%\n",
      "\n",
      "Procesando: devolverse 6.mp4\n",
      "Procesando: devolverse 6.mp4\n",
      "FPS: 30.0, Total frames: 64\n"
     ]
    },
    {
     "name": "stderr",
     "output_type": "stream",
     "text": [
      "Procesando frames: 100%|██████████| 64/64 [00:02<00:00, 26.03it/s]\n"
     ]
    },
    {
     "name": "stdout",
     "output_type": "stream",
     "text": [
      "Datos guardados en:\n",
      "  JSON: C:/Users/13mig/Documents/Semestre 7/IA/motion-classifier-model/data/processed\\devolverse\\devolverse 6_poses.json\n",
      "  CSV: C:/Users/13mig/Documents/Semestre 7/IA/motion-classifier-model/data/processed\\devolverse\\devolverse 6_poses.csv\n",
      "✓ Procesado exitosamente\n",
      "  Frames totales: 64\n",
      "  Frames con pose: 55\n",
      "  Tasa de detección: 85.9%\n",
      "\n",
      "Procesando: devolverse 7.mp4\n",
      "Procesando: devolverse 7.mp4\n",
      "FPS: 30.0, Total frames: 91\n"
     ]
    },
    {
     "name": "stderr",
     "output_type": "stream",
     "text": [
      "Procesando frames: 100%|██████████| 91/91 [00:03<00:00, 25.61it/s]\n"
     ]
    },
    {
     "name": "stdout",
     "output_type": "stream",
     "text": [
      "Datos guardados en:\n",
      "  JSON: C:/Users/13mig/Documents/Semestre 7/IA/motion-classifier-model/data/processed\\devolverse\\devolverse 7_poses.json\n",
      "  CSV: C:/Users/13mig/Documents/Semestre 7/IA/motion-classifier-model/data/processed\\devolverse\\devolverse 7_poses.csv\n",
      "✓ Procesado exitosamente\n",
      "  Frames totales: 91\n",
      "  Frames con pose: 88\n",
      "  Tasa de detección: 96.7%\n",
      "\n",
      "==================================================\n",
      "Procesando acción: ir al frente\n",
      "==================================================\n",
      "Videos encontrados: 8\n",
      "\n",
      "Procesando: al frente 4.mp4\n",
      "Procesando: al frente 4.mp4\n",
      "FPS: 30.0, Total frames: 82\n"
     ]
    },
    {
     "name": "stderr",
     "output_type": "stream",
     "text": [
      "Procesando frames: 100%|██████████| 82/82 [00:03<00:00, 26.03it/s]\n"
     ]
    },
    {
     "name": "stdout",
     "output_type": "stream",
     "text": [
      "Datos guardados en:\n",
      "  JSON: C:/Users/13mig/Documents/Semestre 7/IA/motion-classifier-model/data/processed\\ir al frente\\al frente 4_poses.json\n",
      "  CSV: C:/Users/13mig/Documents/Semestre 7/IA/motion-classifier-model/data/processed\\ir al frente\\al frente 4_poses.csv\n",
      "✓ Procesado exitosamente\n",
      "  Frames totales: 82\n",
      "  Frames con pose: 82\n",
      "  Tasa de detección: 100.0%\n",
      "\n",
      "Procesando: al frente 5.mp4\n",
      "Procesando: al frente 5.mp4\n",
      "FPS: 30.0, Total frames: 107\n"
     ]
    },
    {
     "name": "stderr",
     "output_type": "stream",
     "text": [
      "Procesando frames: 100%|██████████| 107/107 [00:04<00:00, 25.49it/s]\n"
     ]
    },
    {
     "name": "stdout",
     "output_type": "stream",
     "text": [
      "Datos guardados en:\n",
      "  JSON: C:/Users/13mig/Documents/Semestre 7/IA/motion-classifier-model/data/processed\\ir al frente\\al frente 5_poses.json\n",
      "  CSV: C:/Users/13mig/Documents/Semestre 7/IA/motion-classifier-model/data/processed\\ir al frente\\al frente 5_poses.csv\n",
      "✓ Procesado exitosamente\n",
      "  Frames totales: 107\n",
      "  Frames con pose: 105\n",
      "  Tasa de detección: 98.1%\n",
      "\n",
      "Procesando: al frente 6.mp4\n",
      "Procesando: al frente 6.mp4\n",
      "FPS: 30.0, Total frames: 115\n"
     ]
    },
    {
     "name": "stderr",
     "output_type": "stream",
     "text": [
      "Procesando frames: 100%|██████████| 115/115 [00:04<00:00, 25.11it/s]\n"
     ]
    },
    {
     "name": "stdout",
     "output_type": "stream",
     "text": [
      "Datos guardados en:\n",
      "  JSON: C:/Users/13mig/Documents/Semestre 7/IA/motion-classifier-model/data/processed\\ir al frente\\al frente 6_poses.json\n",
      "  CSV: C:/Users/13mig/Documents/Semestre 7/IA/motion-classifier-model/data/processed\\ir al frente\\al frente 6_poses.csv\n",
      "✓ Procesado exitosamente\n",
      "  Frames totales: 115\n",
      "  Frames con pose: 112\n",
      "  Tasa de detección: 97.4%\n",
      "\n",
      "Procesando: al frente 7.mp4\n",
      "Procesando: al frente 7.mp4\n",
      "FPS: 30.0, Total frames: 93\n"
     ]
    },
    {
     "name": "stderr",
     "output_type": "stream",
     "text": [
      "Procesando frames: 100%|██████████| 93/93 [00:03<00:00, 26.09it/s]\n"
     ]
    },
    {
     "name": "stdout",
     "output_type": "stream",
     "text": [
      "Datos guardados en:\n",
      "  JSON: C:/Users/13mig/Documents/Semestre 7/IA/motion-classifier-model/data/processed\\ir al frente\\al frente 7_poses.json\n",
      "  CSV: C:/Users/13mig/Documents/Semestre 7/IA/motion-classifier-model/data/processed\\ir al frente\\al frente 7_poses.csv\n",
      "✓ Procesado exitosamente\n",
      "  Frames totales: 93\n",
      "  Frames con pose: 87\n",
      "  Tasa de detección: 93.5%\n",
      "\n",
      "Procesando: al frente 8.mp4\n",
      "Procesando: al frente 8.mp4\n",
      "FPS: 30.0, Total frames: 128\n"
     ]
    },
    {
     "name": "stderr",
     "output_type": "stream",
     "text": [
      "Procesando frames: 100%|██████████| 128/128 [00:04<00:00, 26.36it/s]\n"
     ]
    },
    {
     "name": "stdout",
     "output_type": "stream",
     "text": [
      "Datos guardados en:\n",
      "  JSON: C:/Users/13mig/Documents/Semestre 7/IA/motion-classifier-model/data/processed\\ir al frente\\al frente 8_poses.json\n",
      "  CSV: C:/Users/13mig/Documents/Semestre 7/IA/motion-classifier-model/data/processed\\ir al frente\\al frente 8_poses.csv\n",
      "✓ Procesado exitosamente\n",
      "  Frames totales: 128\n",
      "  Frames con pose: 125\n",
      "  Tasa de detección: 97.7%\n",
      "\n",
      "Procesando: frente 1.mp4\n",
      "Procesando: frente 1.mp4\n",
      "FPS: 30.0, Total frames: 133\n"
     ]
    },
    {
     "name": "stderr",
     "output_type": "stream",
     "text": [
      "Procesando frames: 100%|██████████| 133/133 [00:05<00:00, 25.77it/s]\n"
     ]
    },
    {
     "name": "stdout",
     "output_type": "stream",
     "text": [
      "Datos guardados en:\n",
      "  JSON: C:/Users/13mig/Documents/Semestre 7/IA/motion-classifier-model/data/processed\\ir al frente\\frente 1_poses.json\n",
      "  CSV: C:/Users/13mig/Documents/Semestre 7/IA/motion-classifier-model/data/processed\\ir al frente\\frente 1_poses.csv\n",
      "✓ Procesado exitosamente\n",
      "  Frames totales: 133\n",
      "  Frames con pose: 116\n",
      "  Tasa de detección: 87.2%\n",
      "\n",
      "Procesando: frente 2.mp4\n",
      "Procesando: frente 2.mp4\n",
      "FPS: 30.0, Total frames: 91\n"
     ]
    },
    {
     "name": "stderr",
     "output_type": "stream",
     "text": [
      "Procesando frames: 100%|██████████| 91/91 [00:03<00:00, 26.07it/s]\n"
     ]
    },
    {
     "name": "stdout",
     "output_type": "stream",
     "text": [
      "Datos guardados en:\n",
      "  JSON: C:/Users/13mig/Documents/Semestre 7/IA/motion-classifier-model/data/processed\\ir al frente\\frente 2_poses.json\n",
      "  CSV: C:/Users/13mig/Documents/Semestre 7/IA/motion-classifier-model/data/processed\\ir al frente\\frente 2_poses.csv\n",
      "✓ Procesado exitosamente\n",
      "  Frames totales: 91\n",
      "  Frames con pose: 84\n",
      "  Tasa de detección: 92.3%\n",
      "\n",
      "Procesando: frente 3.mp4\n",
      "Procesando: frente 3.mp4\n",
      "FPS: 30.0, Total frames: 91\n"
     ]
    },
    {
     "name": "stderr",
     "output_type": "stream",
     "text": [
      "Procesando frames: 100%|██████████| 91/91 [00:03<00:00, 25.67it/s]\n"
     ]
    },
    {
     "name": "stdout",
     "output_type": "stream",
     "text": [
      "Datos guardados en:\n",
      "  JSON: C:/Users/13mig/Documents/Semestre 7/IA/motion-classifier-model/data/processed\\ir al frente\\frente 3_poses.json\n",
      "  CSV: C:/Users/13mig/Documents/Semestre 7/IA/motion-classifier-model/data/processed\\ir al frente\\frente 3_poses.csv\n",
      "✓ Procesado exitosamente\n",
      "  Frames totales: 91\n",
      "  Frames con pose: 91\n",
      "  Tasa de detección: 100.0%\n",
      "\n",
      "==================================================\n",
      "Procesando acción: parar\n",
      "==================================================\n",
      "Videos encontrados: 12\n",
      "\n",
      "Procesando: pararse 1.mp4\n",
      "Procesando: pararse 1.mp4\n",
      "FPS: 30.0, Total frames: 82\n"
     ]
    },
    {
     "name": "stderr",
     "output_type": "stream",
     "text": [
      "Procesando frames: 100%|██████████| 82/82 [00:03<00:00, 25.45it/s]\n"
     ]
    },
    {
     "name": "stdout",
     "output_type": "stream",
     "text": [
      "Datos guardados en:\n",
      "  JSON: C:/Users/13mig/Documents/Semestre 7/IA/motion-classifier-model/data/processed\\parar\\pararse 1_poses.json\n",
      "  CSV: C:/Users/13mig/Documents/Semestre 7/IA/motion-classifier-model/data/processed\\parar\\pararse 1_poses.csv\n",
      "✓ Procesado exitosamente\n",
      "  Frames totales: 82\n",
      "  Frames con pose: 81\n",
      "  Tasa de detección: 98.8%\n",
      "\n",
      "Procesando: pararse 10.mp4\n",
      "Procesando: pararse 10.mp4\n",
      "FPS: 30.0, Total frames: 61\n"
     ]
    },
    {
     "name": "stderr",
     "output_type": "stream",
     "text": [
      "Procesando frames: 100%|██████████| 61/61 [00:02<00:00, 26.52it/s]\n"
     ]
    },
    {
     "name": "stdout",
     "output_type": "stream",
     "text": [
      "Datos guardados en:\n",
      "  JSON: C:/Users/13mig/Documents/Semestre 7/IA/motion-classifier-model/data/processed\\parar\\pararse 10_poses.json\n",
      "  CSV: C:/Users/13mig/Documents/Semestre 7/IA/motion-classifier-model/data/processed\\parar\\pararse 10_poses.csv\n",
      "✓ Procesado exitosamente\n",
      "  Frames totales: 61\n",
      "  Frames con pose: 61\n",
      "  Tasa de detección: 100.0%\n",
      "\n",
      "Procesando: pararse 11.mp4\n",
      "Procesando: pararse 11.mp4\n",
      "FPS: 30.0, Total frames: 62\n"
     ]
    },
    {
     "name": "stderr",
     "output_type": "stream",
     "text": [
      "Procesando frames: 100%|██████████| 62/62 [00:02<00:00, 25.25it/s]\n"
     ]
    },
    {
     "name": "stdout",
     "output_type": "stream",
     "text": [
      "Datos guardados en:\n",
      "  JSON: C:/Users/13mig/Documents/Semestre 7/IA/motion-classifier-model/data/processed\\parar\\pararse 11_poses.json\n",
      "  CSV: C:/Users/13mig/Documents/Semestre 7/IA/motion-classifier-model/data/processed\\parar\\pararse 11_poses.csv\n",
      "✓ Procesado exitosamente\n",
      "  Frames totales: 62\n",
      "  Frames con pose: 62\n",
      "  Tasa de detección: 100.0%\n",
      "\n",
      "Procesando: pararse 12.mp4\n",
      "Procesando: pararse 12.mp4\n",
      "FPS: 30.0, Total frames: 76\n"
     ]
    },
    {
     "name": "stderr",
     "output_type": "stream",
     "text": [
      "Procesando frames: 100%|██████████| 76/76 [00:03<00:00, 25.15it/s]\n"
     ]
    },
    {
     "name": "stdout",
     "output_type": "stream",
     "text": [
      "Datos guardados en:\n",
      "  JSON: C:/Users/13mig/Documents/Semestre 7/IA/motion-classifier-model/data/processed\\parar\\pararse 12_poses.json\n",
      "  CSV: C:/Users/13mig/Documents/Semestre 7/IA/motion-classifier-model/data/processed\\parar\\pararse 12_poses.csv\n",
      "✓ Procesado exitosamente\n",
      "  Frames totales: 76\n",
      "  Frames con pose: 76\n",
      "  Tasa de detección: 100.0%\n",
      "\n",
      "Procesando: pararse 2.mp4\n",
      "Procesando: pararse 2.mp4\n",
      "FPS: 30.0, Total frames: 72\n"
     ]
    },
    {
     "name": "stderr",
     "output_type": "stream",
     "text": [
      "Procesando frames: 100%|██████████| 72/72 [00:04<00:00, 17.70it/s]\n"
     ]
    },
    {
     "name": "stdout",
     "output_type": "stream",
     "text": [
      "Datos guardados en:\n",
      "  JSON: C:/Users/13mig/Documents/Semestre 7/IA/motion-classifier-model/data/processed\\parar\\pararse 2_poses.json\n",
      "  CSV: C:/Users/13mig/Documents/Semestre 7/IA/motion-classifier-model/data/processed\\parar\\pararse 2_poses.csv\n",
      "✓ Procesado exitosamente\n",
      "  Frames totales: 72\n",
      "  Frames con pose: 72\n",
      "  Tasa de detección: 100.0%\n",
      "\n",
      "Procesando: pararse 3.mp4\n",
      "Procesando: pararse 3.mp4\n",
      "FPS: 30.0, Total frames: 113\n"
     ]
    },
    {
     "name": "stderr",
     "output_type": "stream",
     "text": [
      "Procesando frames: 100%|██████████| 113/113 [00:05<00:00, 21.60it/s]\n"
     ]
    },
    {
     "name": "stdout",
     "output_type": "stream",
     "text": [
      "Datos guardados en:\n",
      "  JSON: C:/Users/13mig/Documents/Semestre 7/IA/motion-classifier-model/data/processed\\parar\\pararse 3_poses.json\n",
      "  CSV: C:/Users/13mig/Documents/Semestre 7/IA/motion-classifier-model/data/processed\\parar\\pararse 3_poses.csv\n",
      "✓ Procesado exitosamente\n",
      "  Frames totales: 113\n",
      "  Frames con pose: 112\n",
      "  Tasa de detección: 99.1%\n",
      "\n",
      "Procesando: pararse 4.mp4\n",
      "Procesando: pararse 4.mp4\n",
      "FPS: 30.0, Total frames: 95\n"
     ]
    },
    {
     "name": "stderr",
     "output_type": "stream",
     "text": [
      "Procesando frames: 100%|██████████| 95/95 [00:04<00:00, 20.78it/s]\n"
     ]
    },
    {
     "name": "stdout",
     "output_type": "stream",
     "text": [
      "Datos guardados en:\n",
      "  JSON: C:/Users/13mig/Documents/Semestre 7/IA/motion-classifier-model/data/processed\\parar\\pararse 4_poses.json\n",
      "  CSV: C:/Users/13mig/Documents/Semestre 7/IA/motion-classifier-model/data/processed\\parar\\pararse 4_poses.csv\n",
      "✓ Procesado exitosamente\n",
      "  Frames totales: 95\n",
      "  Frames con pose: 94\n",
      "  Tasa de detección: 98.9%\n",
      "\n",
      "Procesando: pararse 5.mp4\n",
      "Procesando: pararse 5.mp4\n",
      "FPS: 30.0, Total frames: 115\n"
     ]
    },
    {
     "name": "stderr",
     "output_type": "stream",
     "text": [
      "Procesando frames: 100%|██████████| 115/115 [00:05<00:00, 21.49it/s]\n"
     ]
    },
    {
     "name": "stdout",
     "output_type": "stream",
     "text": [
      "Datos guardados en:\n",
      "  JSON: C:/Users/13mig/Documents/Semestre 7/IA/motion-classifier-model/data/processed\\parar\\pararse 5_poses.json\n",
      "  CSV: C:/Users/13mig/Documents/Semestre 7/IA/motion-classifier-model/data/processed\\parar\\pararse 5_poses.csv\n",
      "✓ Procesado exitosamente\n",
      "  Frames totales: 115\n",
      "  Frames con pose: 115\n",
      "  Tasa de detección: 100.0%\n",
      "\n",
      "Procesando: pararse 6.mp4\n",
      "Procesando: pararse 6.mp4\n",
      "FPS: 30.0, Total frames: 80\n"
     ]
    },
    {
     "name": "stderr",
     "output_type": "stream",
     "text": [
      "Procesando frames: 100%|██████████| 80/80 [00:03<00:00, 21.36it/s]\n"
     ]
    },
    {
     "name": "stdout",
     "output_type": "stream",
     "text": [
      "Datos guardados en:\n",
      "  JSON: C:/Users/13mig/Documents/Semestre 7/IA/motion-classifier-model/data/processed\\parar\\pararse 6_poses.json\n",
      "  CSV: C:/Users/13mig/Documents/Semestre 7/IA/motion-classifier-model/data/processed\\parar\\pararse 6_poses.csv\n",
      "✓ Procesado exitosamente\n",
      "  Frames totales: 80\n",
      "  Frames con pose: 80\n",
      "  Tasa de detección: 100.0%\n",
      "\n",
      "Procesando: pararse 7.mp4\n",
      "Procesando: pararse 7.mp4\n",
      "FPS: 30.0, Total frames: 89\n"
     ]
    },
    {
     "name": "stderr",
     "output_type": "stream",
     "text": [
      "Procesando frames: 100%|██████████| 89/89 [00:04<00:00, 21.23it/s]\n"
     ]
    },
    {
     "name": "stdout",
     "output_type": "stream",
     "text": [
      "Datos guardados en:\n",
      "  JSON: C:/Users/13mig/Documents/Semestre 7/IA/motion-classifier-model/data/processed\\parar\\pararse 7_poses.json\n",
      "  CSV: C:/Users/13mig/Documents/Semestre 7/IA/motion-classifier-model/data/processed\\parar\\pararse 7_poses.csv\n",
      "✓ Procesado exitosamente\n",
      "  Frames totales: 89\n",
      "  Frames con pose: 89\n",
      "  Tasa de detección: 100.0%\n",
      "\n",
      "Procesando: pararse 8.mp4\n",
      "Procesando: pararse 8.mp4\n",
      "FPS: 30.0, Total frames: 87\n"
     ]
    },
    {
     "name": "stderr",
     "output_type": "stream",
     "text": [
      "Procesando frames: 100%|██████████| 87/87 [00:03<00:00, 23.09it/s]\n"
     ]
    },
    {
     "name": "stdout",
     "output_type": "stream",
     "text": [
      "Datos guardados en:\n",
      "  JSON: C:/Users/13mig/Documents/Semestre 7/IA/motion-classifier-model/data/processed\\parar\\pararse 8_poses.json\n",
      "  CSV: C:/Users/13mig/Documents/Semestre 7/IA/motion-classifier-model/data/processed\\parar\\pararse 8_poses.csv\n",
      "✓ Procesado exitosamente\n",
      "  Frames totales: 87\n",
      "  Frames con pose: 87\n",
      "  Tasa de detección: 100.0%\n",
      "\n",
      "Procesando: pararse 9.mp4\n",
      "Procesando: pararse 9.mp4\n",
      "FPS: 30.0, Total frames: 73\n"
     ]
    },
    {
     "name": "stderr",
     "output_type": "stream",
     "text": [
      "Procesando frames: 100%|██████████| 73/73 [00:03<00:00, 23.16it/s]\n"
     ]
    },
    {
     "name": "stdout",
     "output_type": "stream",
     "text": [
      "Datos guardados en:\n",
      "  JSON: C:/Users/13mig/Documents/Semestre 7/IA/motion-classifier-model/data/processed\\parar\\pararse 9_poses.json\n",
      "  CSV: C:/Users/13mig/Documents/Semestre 7/IA/motion-classifier-model/data/processed\\parar\\pararse 9_poses.csv\n",
      "✓ Procesado exitosamente\n",
      "  Frames totales: 73\n",
      "  Frames con pose: 73\n",
      "  Tasa de detección: 100.0%\n",
      "\n",
      "==================================================\n",
      "Procesando acción: sentar\n",
      "==================================================\n",
      "Videos encontrados: 15\n",
      "\n",
      "Procesando: sentar 1.mp4\n",
      "Procesando: sentar 1.mp4\n",
      "FPS: 30.0, Total frames: 123\n"
     ]
    },
    {
     "name": "stderr",
     "output_type": "stream",
     "text": [
      "Procesando frames: 100%|██████████| 123/123 [00:05<00:00, 21.39it/s]\n"
     ]
    },
    {
     "name": "stdout",
     "output_type": "stream",
     "text": [
      "Datos guardados en:\n",
      "  JSON: C:/Users/13mig/Documents/Semestre 7/IA/motion-classifier-model/data/processed\\sentar\\sentar 1_poses.json\n",
      "  CSV: C:/Users/13mig/Documents/Semestre 7/IA/motion-classifier-model/data/processed\\sentar\\sentar 1_poses.csv\n",
      "✓ Procesado exitosamente\n",
      "  Frames totales: 123\n",
      "  Frames con pose: 122\n",
      "  Tasa de detección: 99.2%\n",
      "\n",
      "Procesando: sentar 10.mp4\n",
      "Procesando: sentar 10.mp4\n",
      "FPS: 30.0, Total frames: 74\n"
     ]
    },
    {
     "name": "stderr",
     "output_type": "stream",
     "text": [
      "Procesando frames: 100%|██████████| 74/74 [00:03<00:00, 22.72it/s]\n"
     ]
    },
    {
     "name": "stdout",
     "output_type": "stream",
     "text": [
      "Datos guardados en:\n",
      "  JSON: C:/Users/13mig/Documents/Semestre 7/IA/motion-classifier-model/data/processed\\sentar\\sentar 10_poses.json\n",
      "  CSV: C:/Users/13mig/Documents/Semestre 7/IA/motion-classifier-model/data/processed\\sentar\\sentar 10_poses.csv\n",
      "✓ Procesado exitosamente\n",
      "  Frames totales: 74\n",
      "  Frames con pose: 74\n",
      "  Tasa de detección: 100.0%\n",
      "\n",
      "Procesando: sentar 11.mp4\n",
      "Procesando: sentar 11.mp4\n",
      "FPS: 30.0, Total frames: 102\n"
     ]
    },
    {
     "name": "stderr",
     "output_type": "stream",
     "text": [
      "Procesando frames: 100%|██████████| 102/102 [00:04<00:00, 22.35it/s]\n"
     ]
    },
    {
     "name": "stdout",
     "output_type": "stream",
     "text": [
      "Datos guardados en:\n",
      "  JSON: C:/Users/13mig/Documents/Semestre 7/IA/motion-classifier-model/data/processed\\sentar\\sentar 11_poses.json\n",
      "  CSV: C:/Users/13mig/Documents/Semestre 7/IA/motion-classifier-model/data/processed\\sentar\\sentar 11_poses.csv\n",
      "✓ Procesado exitosamente\n",
      "  Frames totales: 102\n",
      "  Frames con pose: 102\n",
      "  Tasa de detección: 100.0%\n",
      "\n",
      "Procesando: sentar 12.mp4\n",
      "Procesando: sentar 12.mp4\n",
      "FPS: 30.0, Total frames: 77\n"
     ]
    },
    {
     "name": "stderr",
     "output_type": "stream",
     "text": [
      "Procesando frames: 100%|██████████| 77/77 [00:03<00:00, 23.72it/s]\n"
     ]
    },
    {
     "name": "stdout",
     "output_type": "stream",
     "text": [
      "Datos guardados en:\n",
      "  JSON: C:/Users/13mig/Documents/Semestre 7/IA/motion-classifier-model/data/processed\\sentar\\sentar 12_poses.json\n",
      "  CSV: C:/Users/13mig/Documents/Semestre 7/IA/motion-classifier-model/data/processed\\sentar\\sentar 12_poses.csv\n",
      "✓ Procesado exitosamente\n",
      "  Frames totales: 77\n",
      "  Frames con pose: 76\n",
      "  Tasa de detección: 98.7%\n",
      "\n",
      "Procesando: sentar 13.mp4\n",
      "Procesando: sentar 13.mp4\n",
      "FPS: 30.0, Total frames: 73\n"
     ]
    },
    {
     "name": "stderr",
     "output_type": "stream",
     "text": [
      "Procesando frames: 100%|██████████| 73/73 [00:03<00:00, 18.82it/s]\n"
     ]
    },
    {
     "name": "stdout",
     "output_type": "stream",
     "text": [
      "Datos guardados en:\n",
      "  JSON: C:/Users/13mig/Documents/Semestre 7/IA/motion-classifier-model/data/processed\\sentar\\sentar 13_poses.json\n",
      "  CSV: C:/Users/13mig/Documents/Semestre 7/IA/motion-classifier-model/data/processed\\sentar\\sentar 13_poses.csv\n",
      "✓ Procesado exitosamente\n",
      "  Frames totales: 73\n",
      "  Frames con pose: 72\n",
      "  Tasa de detección: 98.6%\n",
      "\n",
      "Procesando: sentar 14.mp4\n",
      "Procesando: sentar 14.mp4\n",
      "FPS: 30.0, Total frames: 83\n"
     ]
    },
    {
     "name": "stderr",
     "output_type": "stream",
     "text": [
      "Procesando frames: 100%|██████████| 83/83 [00:03<00:00, 22.14it/s]\n"
     ]
    },
    {
     "name": "stdout",
     "output_type": "stream",
     "text": [
      "Datos guardados en:\n",
      "  JSON: C:/Users/13mig/Documents/Semestre 7/IA/motion-classifier-model/data/processed\\sentar\\sentar 14_poses.json\n",
      "  CSV: C:/Users/13mig/Documents/Semestre 7/IA/motion-classifier-model/data/processed\\sentar\\sentar 14_poses.csv\n",
      "✓ Procesado exitosamente\n",
      "  Frames totales: 83\n",
      "  Frames con pose: 83\n",
      "  Tasa de detección: 100.0%\n",
      "\n",
      "Procesando: sentar 15.mp4\n",
      "Procesando: sentar 15.mp4\n",
      "FPS: 30.0, Total frames: 106\n"
     ]
    },
    {
     "name": "stderr",
     "output_type": "stream",
     "text": [
      "Procesando frames: 100%|██████████| 106/106 [00:04<00:00, 22.53it/s]\n"
     ]
    },
    {
     "name": "stdout",
     "output_type": "stream",
     "text": [
      "Datos guardados en:\n",
      "  JSON: C:/Users/13mig/Documents/Semestre 7/IA/motion-classifier-model/data/processed\\sentar\\sentar 15_poses.json\n",
      "  CSV: C:/Users/13mig/Documents/Semestre 7/IA/motion-classifier-model/data/processed\\sentar\\sentar 15_poses.csv\n",
      "✓ Procesado exitosamente\n",
      "  Frames totales: 106\n",
      "  Frames con pose: 105\n",
      "  Tasa de detección: 99.1%\n",
      "\n",
      "Procesando: sentar 2.mp4\n",
      "Procesando: sentar 2.mp4\n",
      "FPS: 30.0, Total frames: 76\n"
     ]
    },
    {
     "name": "stderr",
     "output_type": "stream",
     "text": [
      "Procesando frames: 100%|██████████| 76/76 [00:03<00:00, 21.82it/s]\n"
     ]
    },
    {
     "name": "stdout",
     "output_type": "stream",
     "text": [
      "Datos guardados en:\n",
      "  JSON: C:/Users/13mig/Documents/Semestre 7/IA/motion-classifier-model/data/processed\\sentar\\sentar 2_poses.json\n",
      "  CSV: C:/Users/13mig/Documents/Semestre 7/IA/motion-classifier-model/data/processed\\sentar\\sentar 2_poses.csv\n",
      "✓ Procesado exitosamente\n",
      "  Frames totales: 76\n",
      "  Frames con pose: 76\n",
      "  Tasa de detección: 100.0%\n",
      "\n",
      "Procesando: sentar 3.mp4\n",
      "Procesando: sentar 3.mp4\n",
      "FPS: 30.0, Total frames: 170\n"
     ]
    },
    {
     "name": "stderr",
     "output_type": "stream",
     "text": [
      "Procesando frames: 100%|██████████| 170/170 [00:07<00:00, 22.08it/s]\n"
     ]
    },
    {
     "name": "stdout",
     "output_type": "stream",
     "text": [
      "Datos guardados en:\n",
      "  JSON: C:/Users/13mig/Documents/Semestre 7/IA/motion-classifier-model/data/processed\\sentar\\sentar 3_poses.json\n",
      "  CSV: C:/Users/13mig/Documents/Semestre 7/IA/motion-classifier-model/data/processed\\sentar\\sentar 3_poses.csv\n",
      "✓ Procesado exitosamente\n",
      "  Frames totales: 170\n",
      "  Frames con pose: 169\n",
      "  Tasa de detección: 99.4%\n",
      "\n",
      "Procesando: sentar 4.mp4\n",
      "Procesando: sentar 4.mp4\n",
      "FPS: 30.0, Total frames: 80\n"
     ]
    },
    {
     "name": "stderr",
     "output_type": "stream",
     "text": [
      "Procesando frames: 100%|██████████| 80/80 [00:03<00:00, 22.46it/s]\n"
     ]
    },
    {
     "name": "stdout",
     "output_type": "stream",
     "text": [
      "Datos guardados en:\n",
      "  JSON: C:/Users/13mig/Documents/Semestre 7/IA/motion-classifier-model/data/processed\\sentar\\sentar 4_poses.json\n",
      "  CSV: C:/Users/13mig/Documents/Semestre 7/IA/motion-classifier-model/data/processed\\sentar\\sentar 4_poses.csv\n",
      "✓ Procesado exitosamente\n",
      "  Frames totales: 80\n",
      "  Frames con pose: 80\n",
      "  Tasa de detección: 100.0%\n",
      "\n",
      "Procesando: sentar 5.mp4\n",
      "Procesando: sentar 5.mp4\n",
      "FPS: 30.0, Total frames: 159\n"
     ]
    },
    {
     "name": "stderr",
     "output_type": "stream",
     "text": [
      "Procesando frames: 100%|██████████| 159/159 [00:07<00:00, 21.44it/s]\n"
     ]
    },
    {
     "name": "stdout",
     "output_type": "stream",
     "text": [
      "Datos guardados en:\n",
      "  JSON: C:/Users/13mig/Documents/Semestre 7/IA/motion-classifier-model/data/processed\\sentar\\sentar 5_poses.json\n",
      "  CSV: C:/Users/13mig/Documents/Semestre 7/IA/motion-classifier-model/data/processed\\sentar\\sentar 5_poses.csv\n",
      "✓ Procesado exitosamente\n",
      "  Frames totales: 159\n",
      "  Frames con pose: 156\n",
      "  Tasa de detección: 98.1%\n",
      "\n",
      "Procesando: sentar 6.mp4\n",
      "Procesando: sentar 6.mp4\n",
      "FPS: 30.0, Total frames: 94\n"
     ]
    },
    {
     "name": "stderr",
     "output_type": "stream",
     "text": [
      "Procesando frames: 100%|██████████| 94/94 [00:04<00:00, 21.88it/s]\n"
     ]
    },
    {
     "name": "stdout",
     "output_type": "stream",
     "text": [
      "Datos guardados en:\n",
      "  JSON: C:/Users/13mig/Documents/Semestre 7/IA/motion-classifier-model/data/processed\\sentar\\sentar 6_poses.json\n",
      "  CSV: C:/Users/13mig/Documents/Semestre 7/IA/motion-classifier-model/data/processed\\sentar\\sentar 6_poses.csv\n",
      "✓ Procesado exitosamente\n",
      "  Frames totales: 94\n",
      "  Frames con pose: 93\n",
      "  Tasa de detección: 98.9%\n",
      "\n",
      "Procesando: sentar 7.mp4\n",
      "Procesando: sentar 7.mp4\n",
      "FPS: 30.0, Total frames: 59\n"
     ]
    },
    {
     "name": "stderr",
     "output_type": "stream",
     "text": [
      "Procesando frames: 100%|██████████| 59/59 [00:02<00:00, 22.63it/s]\n"
     ]
    },
    {
     "name": "stdout",
     "output_type": "stream",
     "text": [
      "Datos guardados en:\n",
      "  JSON: C:/Users/13mig/Documents/Semestre 7/IA/motion-classifier-model/data/processed\\sentar\\sentar 7_poses.json\n",
      "  CSV: C:/Users/13mig/Documents/Semestre 7/IA/motion-classifier-model/data/processed\\sentar\\sentar 7_poses.csv\n",
      "✓ Procesado exitosamente\n",
      "  Frames totales: 59\n",
      "  Frames con pose: 58\n",
      "  Tasa de detección: 98.3%\n",
      "\n",
      "Procesando: sentar 8.mp4\n",
      "Procesando: sentar 8.mp4\n",
      "FPS: 30.0, Total frames: 149\n"
     ]
    },
    {
     "name": "stderr",
     "output_type": "stream",
     "text": [
      "Procesando frames: 100%|██████████| 149/149 [00:07<00:00, 21.14it/s]\n"
     ]
    },
    {
     "name": "stdout",
     "output_type": "stream",
     "text": [
      "Datos guardados en:\n",
      "  JSON: C:/Users/13mig/Documents/Semestre 7/IA/motion-classifier-model/data/processed\\sentar\\sentar 8_poses.json\n",
      "  CSV: C:/Users/13mig/Documents/Semestre 7/IA/motion-classifier-model/data/processed\\sentar\\sentar 8_poses.csv\n",
      "✓ Procesado exitosamente\n",
      "  Frames totales: 149\n",
      "  Frames con pose: 148\n",
      "  Tasa de detección: 99.3%\n",
      "\n",
      "Procesando: sentar 9.mp4\n",
      "Procesando: sentar 9.mp4\n",
      "FPS: 30.0, Total frames: 104\n"
     ]
    },
    {
     "name": "stderr",
     "output_type": "stream",
     "text": [
      "Procesando frames: 100%|██████████| 104/104 [00:04<00:00, 21.42it/s]\n"
     ]
    },
    {
     "name": "stdout",
     "output_type": "stream",
     "text": [
      "Datos guardados en:\n",
      "  JSON: C:/Users/13mig/Documents/Semestre 7/IA/motion-classifier-model/data/processed\\sentar\\sentar 9_poses.json\n",
      "  CSV: C:/Users/13mig/Documents/Semestre 7/IA/motion-classifier-model/data/processed\\sentar\\sentar 9_poses.csv\n",
      "✓ Procesado exitosamente\n",
      "  Frames totales: 104\n",
      "  Frames con pose: 103\n",
      "  Tasa de detección: 99.0%\n",
      "\n",
      "==================================================\n",
      "Procesando acción: voltear\n",
      "==================================================\n",
      "Videos encontrados: 21\n",
      "\n",
      "Procesando: voltear 1.mp4\n",
      "Procesando: voltear 1.mp4\n",
      "FPS: 30.0, Total frames: 99\n"
     ]
    },
    {
     "name": "stderr",
     "output_type": "stream",
     "text": [
      "Procesando frames: 100%|██████████| 99/99 [00:05<00:00, 19.32it/s]\n"
     ]
    },
    {
     "name": "stdout",
     "output_type": "stream",
     "text": [
      "Datos guardados en:\n",
      "  JSON: C:/Users/13mig/Documents/Semestre 7/IA/motion-classifier-model/data/processed\\voltear\\voltear 1_poses.json\n",
      "  CSV: C:/Users/13mig/Documents/Semestre 7/IA/motion-classifier-model/data/processed\\voltear\\voltear 1_poses.csv\n",
      "✓ Procesado exitosamente\n",
      "  Frames totales: 99\n",
      "  Frames con pose: 99\n",
      "  Tasa de detección: 100.0%\n",
      "\n",
      "Procesando: voltear 10.mp4\n",
      "Procesando: voltear 10.mp4\n",
      "FPS: 30.0, Total frames: 96\n"
     ]
    },
    {
     "name": "stderr",
     "output_type": "stream",
     "text": [
      "Procesando frames: 100%|██████████| 96/96 [00:04<00:00, 21.56it/s]\n"
     ]
    },
    {
     "name": "stdout",
     "output_type": "stream",
     "text": [
      "Datos guardados en:\n",
      "  JSON: C:/Users/13mig/Documents/Semestre 7/IA/motion-classifier-model/data/processed\\voltear\\voltear 10_poses.json\n",
      "  CSV: C:/Users/13mig/Documents/Semestre 7/IA/motion-classifier-model/data/processed\\voltear\\voltear 10_poses.csv\n",
      "✓ Procesado exitosamente\n",
      "  Frames totales: 96\n",
      "  Frames con pose: 95\n",
      "  Tasa de detección: 99.0%\n",
      "\n",
      "Procesando: voltear 11.mp4\n",
      "Procesando: voltear 11.mp4\n",
      "FPS: 30.0, Total frames: 95\n"
     ]
    },
    {
     "name": "stderr",
     "output_type": "stream",
     "text": [
      "Procesando frames: 100%|██████████| 95/95 [00:04<00:00, 22.01it/s]\n"
     ]
    },
    {
     "name": "stdout",
     "output_type": "stream",
     "text": [
      "Datos guardados en:\n",
      "  JSON: C:/Users/13mig/Documents/Semestre 7/IA/motion-classifier-model/data/processed\\voltear\\voltear 11_poses.json\n",
      "  CSV: C:/Users/13mig/Documents/Semestre 7/IA/motion-classifier-model/data/processed\\voltear\\voltear 11_poses.csv\n",
      "✓ Procesado exitosamente\n",
      "  Frames totales: 95\n",
      "  Frames con pose: 95\n",
      "  Tasa de detección: 100.0%\n",
      "\n",
      "Procesando: voltear 12.mp4\n",
      "Procesando: voltear 12.mp4\n",
      "FPS: 30.0, Total frames: 45\n"
     ]
    },
    {
     "name": "stderr",
     "output_type": "stream",
     "text": [
      "Procesando frames: 100%|██████████| 45/45 [00:02<00:00, 20.43it/s]\n"
     ]
    },
    {
     "name": "stdout",
     "output_type": "stream",
     "text": [
      "Datos guardados en:\n",
      "  JSON: C:/Users/13mig/Documents/Semestre 7/IA/motion-classifier-model/data/processed\\voltear\\voltear 12_poses.json\n",
      "  CSV: C:/Users/13mig/Documents/Semestre 7/IA/motion-classifier-model/data/processed\\voltear\\voltear 12_poses.csv\n",
      "✓ Procesado exitosamente\n",
      "  Frames totales: 45\n",
      "  Frames con pose: 45\n",
      "  Tasa de detección: 100.0%\n",
      "\n",
      "Procesando: voltear 13.mp4\n",
      "Procesando: voltear 13.mp4\n",
      "FPS: 30.0, Total frames: 41\n"
     ]
    },
    {
     "name": "stderr",
     "output_type": "stream",
     "text": [
      "Procesando frames: 100%|██████████| 41/41 [00:01<00:00, 22.41it/s]\n"
     ]
    },
    {
     "name": "stdout",
     "output_type": "stream",
     "text": [
      "Datos guardados en:\n",
      "  JSON: C:/Users/13mig/Documents/Semestre 7/IA/motion-classifier-model/data/processed\\voltear\\voltear 13_poses.json\n",
      "  CSV: C:/Users/13mig/Documents/Semestre 7/IA/motion-classifier-model/data/processed\\voltear\\voltear 13_poses.csv\n",
      "✓ Procesado exitosamente\n",
      "  Frames totales: 41\n",
      "  Frames con pose: 41\n",
      "  Tasa de detección: 100.0%\n",
      "\n",
      "Procesando: voltear 14.mp4\n",
      "Procesando: voltear 14.mp4\n",
      "FPS: 30.0, Total frames: 40\n"
     ]
    },
    {
     "name": "stderr",
     "output_type": "stream",
     "text": [
      "Procesando frames: 100%|██████████| 40/40 [00:02<00:00, 15.72it/s]\n"
     ]
    },
    {
     "name": "stdout",
     "output_type": "stream",
     "text": [
      "Datos guardados en:\n",
      "  JSON: C:/Users/13mig/Documents/Semestre 7/IA/motion-classifier-model/data/processed\\voltear\\voltear 14_poses.json\n",
      "  CSV: C:/Users/13mig/Documents/Semestre 7/IA/motion-classifier-model/data/processed\\voltear\\voltear 14_poses.csv\n",
      "✓ Procesado exitosamente\n",
      "  Frames totales: 40\n",
      "  Frames con pose: 25\n",
      "  Tasa de detección: 62.5%\n",
      "\n",
      "Procesando: voltear 15.mp4\n",
      "Procesando: voltear 15.mp4\n",
      "FPS: 30.0, Total frames: 47\n"
     ]
    },
    {
     "name": "stderr",
     "output_type": "stream",
     "text": [
      "Procesando frames: 100%|██████████| 47/47 [00:02<00:00, 18.85it/s]\n"
     ]
    },
    {
     "name": "stdout",
     "output_type": "stream",
     "text": [
      "Datos guardados en:\n",
      "  JSON: C:/Users/13mig/Documents/Semestre 7/IA/motion-classifier-model/data/processed\\voltear\\voltear 15_poses.json\n",
      "  CSV: C:/Users/13mig/Documents/Semestre 7/IA/motion-classifier-model/data/processed\\voltear\\voltear 15_poses.csv\n",
      "✓ Procesado exitosamente\n",
      "  Frames totales: 47\n",
      "  Frames con pose: 47\n",
      "  Tasa de detección: 100.0%\n",
      "\n",
      "Procesando: voltear 16.mp4\n",
      "Procesando: voltear 16.mp4\n",
      "FPS: 30.0, Total frames: 55\n"
     ]
    },
    {
     "name": "stderr",
     "output_type": "stream",
     "text": [
      "Procesando frames: 100%|██████████| 55/55 [00:03<00:00, 16.50it/s]\n"
     ]
    },
    {
     "name": "stdout",
     "output_type": "stream",
     "text": [
      "Datos guardados en:\n",
      "  JSON: C:/Users/13mig/Documents/Semestre 7/IA/motion-classifier-model/data/processed\\voltear\\voltear 16_poses.json\n",
      "  CSV: C:/Users/13mig/Documents/Semestre 7/IA/motion-classifier-model/data/processed\\voltear\\voltear 16_poses.csv\n",
      "✓ Procesado exitosamente\n",
      "  Frames totales: 55\n",
      "  Frames con pose: 52\n",
      "  Tasa de detección: 94.5%\n",
      "\n",
      "Procesando: voltear 17.mp4\n",
      "Procesando: voltear 17.mp4\n",
      "FPS: 30.0, Total frames: 45\n"
     ]
    },
    {
     "name": "stderr",
     "output_type": "stream",
     "text": [
      "Procesando frames: 100%|██████████| 45/45 [00:02<00:00, 19.72it/s]\n"
     ]
    },
    {
     "name": "stdout",
     "output_type": "stream",
     "text": [
      "Datos guardados en:\n",
      "  JSON: C:/Users/13mig/Documents/Semestre 7/IA/motion-classifier-model/data/processed\\voltear\\voltear 17_poses.json\n",
      "  CSV: C:/Users/13mig/Documents/Semestre 7/IA/motion-classifier-model/data/processed\\voltear\\voltear 17_poses.csv\n",
      "✓ Procesado exitosamente\n",
      "  Frames totales: 45\n",
      "  Frames con pose: 44\n",
      "  Tasa de detección: 97.8%\n",
      "\n",
      "Procesando: voltear 18.mp4\n",
      "Procesando: voltear 18.mp4\n",
      "FPS: 30.0, Total frames: 44\n"
     ]
    },
    {
     "name": "stderr",
     "output_type": "stream",
     "text": [
      "Procesando frames: 100%|██████████| 44/44 [00:02<00:00, 19.15it/s]\n"
     ]
    },
    {
     "name": "stdout",
     "output_type": "stream",
     "text": [
      "Datos guardados en:\n",
      "  JSON: C:/Users/13mig/Documents/Semestre 7/IA/motion-classifier-model/data/processed\\voltear\\voltear 18_poses.json\n",
      "  CSV: C:/Users/13mig/Documents/Semestre 7/IA/motion-classifier-model/data/processed\\voltear\\voltear 18_poses.csv\n",
      "✓ Procesado exitosamente\n",
      "  Frames totales: 44\n",
      "  Frames con pose: 41\n",
      "  Tasa de detección: 93.2%\n",
      "\n",
      "Procesando: voltear 19.mp4\n",
      "Procesando: voltear 19.mp4\n",
      "FPS: 30.0, Total frames: 55\n"
     ]
    },
    {
     "name": "stderr",
     "output_type": "stream",
     "text": [
      "Procesando frames: 100%|██████████| 55/55 [00:02<00:00, 23.17it/s]\n"
     ]
    },
    {
     "name": "stdout",
     "output_type": "stream",
     "text": [
      "Datos guardados en:\n",
      "  JSON: C:/Users/13mig/Documents/Semestre 7/IA/motion-classifier-model/data/processed\\voltear\\voltear 19_poses.json\n",
      "  CSV: C:/Users/13mig/Documents/Semestre 7/IA/motion-classifier-model/data/processed\\voltear\\voltear 19_poses.csv\n",
      "✓ Procesado exitosamente\n",
      "  Frames totales: 55\n",
      "  Frames con pose: 54\n",
      "  Tasa de detección: 98.2%\n",
      "\n",
      "Procesando: voltear 2.mp4\n",
      "Procesando: voltear 2.mp4\n",
      "FPS: 30.0, Total frames: 109\n"
     ]
    },
    {
     "name": "stderr",
     "output_type": "stream",
     "text": [
      "Procesando frames: 100%|██████████| 109/109 [00:05<00:00, 20.71it/s]\n"
     ]
    },
    {
     "name": "stdout",
     "output_type": "stream",
     "text": [
      "Datos guardados en:\n",
      "  JSON: C:/Users/13mig/Documents/Semestre 7/IA/motion-classifier-model/data/processed\\voltear\\voltear 2_poses.json\n",
      "  CSV: C:/Users/13mig/Documents/Semestre 7/IA/motion-classifier-model/data/processed\\voltear\\voltear 2_poses.csv\n",
      "✓ Procesado exitosamente\n",
      "  Frames totales: 109\n",
      "  Frames con pose: 109\n",
      "  Tasa de detección: 100.0%\n",
      "\n",
      "Procesando: voltear 20.mp4\n",
      "Procesando: voltear 20.mp4\n",
      "FPS: 30.0, Total frames: 61\n"
     ]
    },
    {
     "name": "stderr",
     "output_type": "stream",
     "text": [
      "Procesando frames: 100%|██████████| 61/61 [00:03<00:00, 19.97it/s]\n"
     ]
    },
    {
     "name": "stdout",
     "output_type": "stream",
     "text": [
      "Datos guardados en:\n",
      "  JSON: C:/Users/13mig/Documents/Semestre 7/IA/motion-classifier-model/data/processed\\voltear\\voltear 20_poses.json\n",
      "  CSV: C:/Users/13mig/Documents/Semestre 7/IA/motion-classifier-model/data/processed\\voltear\\voltear 20_poses.csv\n",
      "✓ Procesado exitosamente\n",
      "  Frames totales: 61\n",
      "  Frames con pose: 39\n",
      "  Tasa de detección: 63.9%\n",
      "\n",
      "Procesando: voltear 21.mp4\n",
      "Procesando: voltear 21.mp4\n",
      "FPS: 30.0, Total frames: 64\n"
     ]
    },
    {
     "name": "stderr",
     "output_type": "stream",
     "text": [
      "Procesando frames: 100%|██████████| 64/64 [00:02<00:00, 23.47it/s]\n"
     ]
    },
    {
     "name": "stdout",
     "output_type": "stream",
     "text": [
      "Datos guardados en:\n",
      "  JSON: C:/Users/13mig/Documents/Semestre 7/IA/motion-classifier-model/data/processed\\voltear\\voltear 21_poses.json\n",
      "  CSV: C:/Users/13mig/Documents/Semestre 7/IA/motion-classifier-model/data/processed\\voltear\\voltear 21_poses.csv\n",
      "✓ Procesado exitosamente\n",
      "  Frames totales: 64\n",
      "  Frames con pose: 63\n",
      "  Tasa de detección: 98.4%\n",
      "\n",
      "Procesando: voltear 3.mp4\n",
      "Procesando: voltear 3.mp4\n",
      "FPS: 30.0, Total frames: 101\n"
     ]
    },
    {
     "name": "stderr",
     "output_type": "stream",
     "text": [
      "Procesando frames: 100%|██████████| 101/101 [00:04<00:00, 20.99it/s]\n"
     ]
    },
    {
     "name": "stdout",
     "output_type": "stream",
     "text": [
      "Datos guardados en:\n",
      "  JSON: C:/Users/13mig/Documents/Semestre 7/IA/motion-classifier-model/data/processed\\voltear\\voltear 3_poses.json\n",
      "  CSV: C:/Users/13mig/Documents/Semestre 7/IA/motion-classifier-model/data/processed\\voltear\\voltear 3_poses.csv\n",
      "✓ Procesado exitosamente\n",
      "  Frames totales: 101\n",
      "  Frames con pose: 101\n",
      "  Tasa de detección: 100.0%\n",
      "\n",
      "Procesando: voltear 4.mp4\n",
      "Procesando: voltear 4.mp4\n",
      "FPS: 30.0, Total frames: 136\n"
     ]
    },
    {
     "name": "stderr",
     "output_type": "stream",
     "text": [
      "Procesando frames: 100%|██████████| 136/136 [00:06<00:00, 22.36it/s]\n"
     ]
    },
    {
     "name": "stdout",
     "output_type": "stream",
     "text": [
      "Datos guardados en:\n",
      "  JSON: C:/Users/13mig/Documents/Semestre 7/IA/motion-classifier-model/data/processed\\voltear\\voltear 4_poses.json\n",
      "  CSV: C:/Users/13mig/Documents/Semestre 7/IA/motion-classifier-model/data/processed\\voltear\\voltear 4_poses.csv\n",
      "✓ Procesado exitosamente\n",
      "  Frames totales: 136\n",
      "  Frames con pose: 136\n",
      "  Tasa de detección: 100.0%\n",
      "\n",
      "Procesando: voltear 5.mp4\n",
      "Procesando: voltear 5.mp4\n",
      "FPS: 30.0, Total frames: 109\n"
     ]
    },
    {
     "name": "stderr",
     "output_type": "stream",
     "text": [
      "Procesando frames: 100%|██████████| 109/109 [00:05<00:00, 21.20it/s]\n"
     ]
    },
    {
     "name": "stdout",
     "output_type": "stream",
     "text": [
      "Datos guardados en:\n",
      "  JSON: C:/Users/13mig/Documents/Semestre 7/IA/motion-classifier-model/data/processed\\voltear\\voltear 5_poses.json\n",
      "  CSV: C:/Users/13mig/Documents/Semestre 7/IA/motion-classifier-model/data/processed\\voltear\\voltear 5_poses.csv\n",
      "✓ Procesado exitosamente\n",
      "  Frames totales: 109\n",
      "  Frames con pose: 109\n",
      "  Tasa de detección: 100.0%\n",
      "\n",
      "Procesando: voltear 6.mp4\n",
      "Procesando: voltear 6.mp4\n",
      "FPS: 30.0, Total frames: 102\n"
     ]
    },
    {
     "name": "stderr",
     "output_type": "stream",
     "text": [
      "Procesando frames: 100%|██████████| 102/102 [00:04<00:00, 22.25it/s]\n"
     ]
    },
    {
     "name": "stdout",
     "output_type": "stream",
     "text": [
      "Datos guardados en:\n",
      "  JSON: C:/Users/13mig/Documents/Semestre 7/IA/motion-classifier-model/data/processed\\voltear\\voltear 6_poses.json\n",
      "  CSV: C:/Users/13mig/Documents/Semestre 7/IA/motion-classifier-model/data/processed\\voltear\\voltear 6_poses.csv\n",
      "✓ Procesado exitosamente\n",
      "  Frames totales: 102\n",
      "  Frames con pose: 102\n",
      "  Tasa de detección: 100.0%\n",
      "\n",
      "Procesando: voltear 7.mp4\n",
      "Procesando: voltear 7.mp4\n",
      "FPS: 30.0, Total frames: 81\n"
     ]
    },
    {
     "name": "stderr",
     "output_type": "stream",
     "text": [
      "Procesando frames: 100%|██████████| 81/81 [00:03<00:00, 21.73it/s]\n"
     ]
    },
    {
     "name": "stdout",
     "output_type": "stream",
     "text": [
      "Datos guardados en:\n",
      "  JSON: C:/Users/13mig/Documents/Semestre 7/IA/motion-classifier-model/data/processed\\voltear\\voltear 7_poses.json\n",
      "  CSV: C:/Users/13mig/Documents/Semestre 7/IA/motion-classifier-model/data/processed\\voltear\\voltear 7_poses.csv\n",
      "✓ Procesado exitosamente\n",
      "  Frames totales: 81\n",
      "  Frames con pose: 81\n",
      "  Tasa de detección: 100.0%\n",
      "\n",
      "Procesando: voltear 8.mp4\n",
      "Procesando: voltear 8.mp4\n",
      "FPS: 30.0, Total frames: 115\n"
     ]
    },
    {
     "name": "stderr",
     "output_type": "stream",
     "text": [
      "Procesando frames: 100%|██████████| 115/115 [00:06<00:00, 18.93it/s]\n"
     ]
    },
    {
     "name": "stdout",
     "output_type": "stream",
     "text": [
      "Datos guardados en:\n",
      "  JSON: C:/Users/13mig/Documents/Semestre 7/IA/motion-classifier-model/data/processed\\voltear\\voltear 8_poses.json\n",
      "  CSV: C:/Users/13mig/Documents/Semestre 7/IA/motion-classifier-model/data/processed\\voltear\\voltear 8_poses.csv\n",
      "✓ Procesado exitosamente\n",
      "  Frames totales: 115\n",
      "  Frames con pose: 115\n",
      "  Tasa de detección: 100.0%\n",
      "\n",
      "Procesando: voltear 9.mp4\n",
      "Procesando: voltear 9.mp4\n",
      "FPS: 30.0, Total frames: 103\n"
     ]
    },
    {
     "name": "stderr",
     "output_type": "stream",
     "text": [
      "Procesando frames: 100%|██████████| 103/103 [00:05<00:00, 18.59it/s]"
     ]
    },
    {
     "name": "stdout",
     "output_type": "stream",
     "text": [
      "Datos guardados en:\n",
      "  JSON: C:/Users/13mig/Documents/Semestre 7/IA/motion-classifier-model/data/processed\\voltear\\voltear 9_poses.json\n",
      "  CSV: C:/Users/13mig/Documents/Semestre 7/IA/motion-classifier-model/data/processed\\voltear\\voltear 9_poses.csv\n",
      "✓ Procesado exitosamente\n",
      "  Frames totales: 103\n",
      "  Frames con pose: 103\n",
      "  Tasa de detección: 100.0%\n",
      "\n",
      "============================================================\n",
      "RESUMEN DE PROCESAMIENTO\n",
      "============================================================\n",
      "Tiempo total: 261.74 segundos\n",
      "\n",
      "devolverse:\n",
      "  Videos procesados: 7/7\n",
      "  Tasa promedio de detección: 91.5%\n",
      "\n",
      "Total general: 7/7 videos procesados exitosamente\n",
      "\n",
      "ir al frente:\n",
      "  Videos procesados: 8/8\n",
      "  Tasa promedio de detección: 95.8%\n",
      "\n",
      "Total general: 15/15 videos procesados exitosamente\n",
      "\n",
      "parar:\n",
      "  Videos procesados: 12/12\n",
      "  Tasa promedio de detección: 99.7%\n",
      "\n",
      "Total general: 27/27 videos procesados exitosamente\n",
      "\n",
      "sentar:\n",
      "  Videos procesados: 15/15\n",
      "  Tasa promedio de detección: 99.2%\n",
      "\n",
      "Total general: 42/42 videos procesados exitosamente\n",
      "\n",
      "voltear:\n",
      "  Videos procesados: 21/21\n",
      "  Tasa promedio de detección: 95.6%\n",
      "\n",
      "Total general: 63/63 videos procesados exitosamente\n"
     ]
    },
    {
     "name": "stderr",
     "output_type": "stream",
     "text": [
      "\n"
     ]
    }
   ],
   "source": [
    "# Ejecutar el procesamiento\\n\",\n",
    "print(\"Iniciando procesamiento de videos...\")\n",
    "print(f\"Buscando videos en: {RAW_DATA_PATH}\")\n",
    "print(f\"Guardando resultados en: {PROCESSED_DATA_PATH}\")\n",
    "\n",
    "start_time = time.time()\n",
    "summary = process_all_videos(RAW_DATA_PATH, PROCESSED_DATA_PATH)\n",
    "end_time = time.time()\n",
    "\n",
    "print(f\"\\n{'='*60}\")\n",
    "print(\"RESUMEN DE PROCESAMIENTO\")\n",
    "print(f\"{'='*60}\")\n",
    "print(f\"Tiempo total: {end_time - start_time:.2f} segundos\")\n",
    "\n",
    "total_videos = 0\n",
    "total_successful = 0\n",
    "\n",
    "for action, results in summary.items():\n",
    "    successful = sum(1 for r in results if r['status'] == 'success')\n",
    "    total = len(results)\n",
    "\n",
    "    total_videos += total\n",
    "    total_successful += successful\n",
    "\n",
    "    print(f\"\\n{action}:\")\n",
    "    print(f\"  Videos procesados: {successful}/{total}\")\n",
    "\n",
    "    if successful > 0:\n",
    "        avg_detection = np.mean([r.get('detection_rate', 0) for r in results if r['status'] == 'success'])\n",
    "        print(f\"  Tasa promedio de detección: {avg_detection:.1f}%\")\n",
    "\n",
    "    print(f\"\\nTotal general: {total_successful}/{total_videos} videos procesados exitosamente\")"
   ]
  },
  {
   "cell_type": "code",
   "execution_count": 7,
   "metadata": {},
   "outputs": [
    {
     "name": "stdout",
     "output_type": "stream",
     "text": [
      "Resumen guardado en: C:/Users/13mig/Documents/Semestre 7/IA/motion-classifier-model/data/processed\\processing_summary.json\n"
     ]
    }
   ],
   "source": [
    "# Guardar resumen del procesamiento\n",
    "summary_path = os.path.join(PROCESSED_DATA_PATH, 'processing_summary.json')\n",
    "with open(summary_path, 'w') as f:\n",
    "    json.dump(summary, f, indent=2)\n",
    "\n",
    "print(f\"Resumen guardado en: {summary_path}\")"
   ]
  },
  {
   "cell_type": "code",
   "execution_count": 8,
   "metadata": {},
   "outputs": [
    {
     "data": {
      "image/png": "[encoded data removed]",
      "text/plain": [
       "<Figure size 1000x600 with 1 Axes>"
      ]
     },
     "metadata": {},
     "output_type": "display_data"
    }
   ],
   "source": [
    "# Ejemplo de visualización de datos procesados\n",
    "def plot_pose_detection_rates(summary):\n",
    "    \"\"\"Grafica las tasas de detección por acción\"\"\"\n",
    "    actions = []\n",
    "    avg_rates = []\n",
    "\n",
    "    for action, results in summary.items():\n",
    "        successful_results = [r for r in results if r['status'] == 'success']\n",
    "        if successful_results:\n",
    "            avg_rate = np.mean([r['detection_rate'] for r in successful_results])\n",
    "            actions.append(action)\n",
    "            avg_rates.append(avg_rate)\n",
    "\n",
    "    plt.figure(figsize=(10, 6))\n",
    "    bars = plt.bar(actions, avg_rates, color=['#1f77b4', '#ff7f0e', '#2ca02c', '#d62728', '#9467bd'])\n",
    "    plt.title('Tasa Promedio de Detección de Poses por Acción')\n",
    "    plt.xlabel('Acción')\n",
    "    plt.ylabel('Tasa de Detección (%)')\n",
    "    plt.xticks(rotation=45)\n",
    "    plt.ylim(0, 100)\n",
    "\n",
    "    # Agregar valores en las barras\n",
    "    for bar, rate in zip(bars, avg_rates):\n",
    "        plt.text(bar.get_x() + bar.get_width()/2, bar.get_height() + 1, \n",
    "                f'{rate:.1f}%', ha='center', va='bottom')\n",
    "\n",
    "    plt.tight_layout()\n",
    "    plt.show()\n",
    "\n",
    "# Crear visualización\n",
    "plot_pose_detection_rates(summary)"
   ]
  }
 ],
 "metadata": {
  "kernelspec": {
   "display_name": "Python 3",
   "language": "python",
   "name": "python3"
  },
  "language_info": {
   "codemirror_mode": {
    "name": "ipython",
    "version": 3
   },
   "file_extension": ".py",
   "mimetype": "text/x-python",
   "name": "python",
   "nbconvert_exporter": "python",
   "pygments_lexer": "ipython3",
   "version": "3.12.6"
  }
 },
 "nbformat": 4,
 "nbformat_minor": 2
}
